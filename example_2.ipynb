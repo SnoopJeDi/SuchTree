{
 "cells": [
  {
   "cell_type": "code",
   "execution_count": 1,
   "metadata": {
    "collapsed": false
   },
   "outputs": [
    {
     "name": "stdout",
     "output_type": "stream",
     "text": [
      "Populating the interactive namespace from numpy and matplotlib\n"
     ]
    }
   ],
   "source": [
    "%load_ext Cython\n",
    "%pylab inline"
   ]
  },
  {
   "cell_type": "code",
   "execution_count": 2,
   "metadata": {
    "collapsed": false
   },
   "outputs": [
    {
     "name": "stderr",
     "output_type": "stream",
     "text": [
      "/home/russell/opt/local/lib/python2.7/site-packages/matplotlib/__init__.py:872: UserWarning: axes.color_cycle is deprecated and replaced with axes.prop_cycle; please use the latter.\n",
      "  warnings.warn(self.msg_depr % (key, alt_key))\n"
     ]
    }
   ],
   "source": [
    "from SuchTree import SuchTree, SuchLinkedTrees\n",
    "import pandas as pd\n",
    "import numpy as np\n",
    "import seaborn"
   ]
  },
  {
   "cell_type": "code",
   "execution_count": null,
   "metadata": {
    "collapsed": false
   },
   "outputs": [],
   "source": [
    "T1 = SuchTree( 'SuchTree/tests/test.tree' )\n",
    "T2 = SuchTree( 'http://edhar.genomecenter.ucdavis.edu/~russell/fishpoo/fishpoo2_p200_c2_unique_2_clustalo_fasttree.tree' )\n",
    "links = pd.read_csv( 'http://edhar.genomecenter.ucdavis.edu/~russell/fishpoo/fishpoo2_p200_c2_host_count_table.tsv', \n",
    "                    sep='\\t', index_col='Host')\n",
    "links.index = map( lambda x : x.replace(' ','_'), links.index )"
   ]
  },
  {
   "cell_type": "code",
   "execution_count": 3,
   "metadata": {
    "collapsed": false
   },
   "outputs": [],
   "source": [
    "T1 = SuchTree( 'SuchTree/tests/test.tree' )\n",
    "T2 = SuchTree( 'SuchTree/tests/test.tree' )\n",
    "links = pd.DataFrame( np.random.random_integers( 0, 3, size=(14,14) ), index=T1.leafs.keys(), columns=T1.leafs.keys() )"
   ]
  },
  {
   "cell_type": "code",
   "execution_count": 4,
   "metadata": {
    "collapsed": false
   },
   "outputs": [
    {
     "name": "stdout",
     "output_type": "stream",
     "text": [
      "140540598757008 allocating columns in 678897320\n",
      "140540598757208 allocating columns in 678897520\n",
      "140540598757008 freeing columns in 678897320\n",
      "140540598757008 freeing table 678897320\n"
     ]
    }
   ],
   "source": [
    "SLT = SuchLinkedTrees( T1, T2, links )\n",
    "SLT = SuchLinkedTrees( T1, T2, links )"
   ]
  },
  {
   "cell_type": "code",
   "execution_count": 5,
   "metadata": {
    "collapsed": false
   },
   "outputs": [
    {
     "name": "stdout",
     "output_type": "stream",
     "text": [
      "column 0 : 10,14,0,22,12,18,8,16,4\n",
      "column 1 : 2,20,6,14,8,22,12,16,4,26\n",
      "column 2 : 2,6,10,8,22,12,16,24,4,26\n",
      "column 3 : 20,6,10,14,0,16,8,4\n",
      "column 4 : 10,14,22,12,18,24,16,4,26\n",
      "column 5 : 2,20,6,14,0,22,18,24,8,16,4,26\n",
      "column 6 : 2,6,8,22,12,18,24,16,26\n",
      "column 7 : 2,6,10,14,0,22,12,18,16,4\n",
      "column 8 : 2,20,10,22,12,18,24,16,26\n",
      "column 9 : 2,20,6,10,14,12,24,26\n",
      "column 10 : 2,20,6,0,22,12,18,24,8,16,26\n",
      "column 11 : 2,20,6,10,14,0,12,18,24,8,16,4,26\n",
      "column 12 : 2,20,6,10,14,0,22,12,16,24,8,4,26\n",
      "column 13 : 20,6,14,8,22,12,18,24,26\n"
     ]
    }
   ],
   "source": [
    "SLT.dump_table()"
   ]
  },
  {
   "cell_type": "code",
   "execution_count": 6,
   "metadata": {
    "collapsed": false
   },
   "outputs": [
    {
     "data": {
      "text/plain": [
       "array([[False, False, False,  True,  True,  True,  True,  True,  True,\n",
       "         True, False,  True,  True, False],\n",
       "       [ True,  True,  True, False, False,  True, False,  True,  True,\n",
       "         True, False,  True,  True,  True],\n",
       "       [ True, False,  True, False,  True, False, False,  True,  True,\n",
       "         True,  True,  True,  True,  True],\n",
       "       [False,  True,  True, False,  True,  True,  True, False, False,\n",
       "         True, False,  True,  True, False],\n",
       "       [False, False, False,  True,  True,  True, False,  True,  True,\n",
       "         True,  True, False,  True,  True],\n",
       "       [ True,  True,  True,  True, False,  True,  True,  True, False,\n",
       "         True,  True,  True,  True,  True],\n",
       "       [ True, False,  True,  True, False, False, False,  True,  True,\n",
       "         True,  True,  True, False,  True],\n",
       "       [ True, False,  True,  True,  True,  True,  True,  True,  True,\n",
       "         True, False, False,  True, False],\n",
       "       [ True,  True, False,  True,  True, False, False,  True,  True,\n",
       "         True,  True, False, False,  True],\n",
       "       [ True,  True,  True, False,  True,  True, False, False,  True,\n",
       "        False,  True, False, False,  True],\n",
       "       [ True,  True,  True,  True, False, False,  True,  True,  True,\n",
       "         True,  True,  True, False,  True],\n",
       "       [ True,  True,  True,  True,  True,  True,  True, False,  True,\n",
       "         True,  True,  True,  True,  True],\n",
       "       [ True,  True,  True, False,  True,  True,  True,  True,  True,\n",
       "         True,  True,  True,  True,  True],\n",
       "       [False,  True,  True,  True, False,  True, False,  True,  True,\n",
       "        False,  True,  True, False,  True]], dtype=bool)"
      ]
     },
     "execution_count": 6,
     "metadata": {},
     "output_type": "execute_result"
    }
   ],
   "source": [
    "SLT.linkmatrix"
   ]
  },
  {
   "cell_type": "code",
   "execution_count": 11,
   "metadata": {
    "collapsed": false
   },
   "outputs": [
    {
     "data": {
      "text/plain": [
       "2"
      ]
     },
     "execution_count": 11,
     "metadata": {},
     "output_type": "execute_result"
    }
   ],
   "source": [
    "SLT.linklist[0,0]"
   ]
  },
  {
   "cell_type": "code",
   "execution_count": 8,
   "metadata": {
    "collapsed": false
   },
   "outputs": [
    {
     "data": {
      "text/plain": [
       "<seaborn.axisgrid.JointGrid at 0x7f5a24602ad0>"
      ]
     },
     "execution_count": 8,
     "metadata": {},
     "output_type": "execute_result"
    },
    {
     "data": {
      "image/png": "[encoded data removed]",
      "text/plain": [
       "<matplotlib.figure.Figure at 0x7f5a24602390>"
      ]
     },
     "metadata": {},
     "output_type": "display_data"
    }
   ],
   "source": [
    "result = SLT.linked_distances()\n",
    "\n",
    "seaborn.jointplot( result['TreeA'], result['TreeB'] )"
   ]
  },
  {
   "cell_type": "code",
   "execution_count": 9,
   "metadata": {
    "collapsed": false
   },
   "outputs": [
    {
     "data": {
      "text/plain": [
       "array([21, 19, 25, 13, 23,  7, 17,  1, 11, 15,  3,  9,  5])"
      ]
     },
     "execution_count": 9,
     "metadata": {},
     "output_type": "execute_result"
    }
   ],
   "source": [
    "SLT.TreeB.get_internal_nodes()"
   ]
  },
  {
   "cell_type": "code",
   "execution_count": 10,
   "metadata": {
    "collapsed": false
   },
   "outputs": [
    {
     "data": {
      "text/plain": [
       "array([22, 24])"
      ]
     },
     "execution_count": 10,
     "metadata": {},
     "output_type": "execute_result"
    }
   ],
   "source": [
    "SLT.TreeB.get_leafs( 23 )"
   ]
  },
  {
   "cell_type": "code",
   "execution_count": 11,
   "metadata": {
    "collapsed": false
   },
   "outputs": [
    {
     "name": "stdout",
     "output_type": "stream",
     "text": [
      "7 71\n"
     ]
    }
   ],
   "source": [
    "SLT.subset( 7 )\n",
    "print SLT.subset_size, SLT.subset_n_links"
   ]
  },
  {
   "cell_type": "code",
   "execution_count": 12,
   "metadata": {
    "collapsed": false
   },
   "outputs": [
    {
     "name": "stdout",
     "output_type": "stream",
     "text": [
      "[ 2 20  6 18 10 14  0 22 12 16 24  8  4 26]\n",
      "[ 6  8  0 11  4 12  2]\n",
      "[ 0 12  2  8 10  4  6]\n"
     ]
    }
   ],
   "source": [
    "print SLT.col_ids\n",
    "print SLT.subset_columns\n",
    "print SLT.subset_leafs"
   ]
  },
  {
   "cell_type": "code",
   "execution_count": 13,
   "metadata": {
    "collapsed": false
   },
   "outputs": [
    {
     "data": {
      "text/plain": [
       "<seaborn.axisgrid.JointGrid at 0x7f5a23e636d0>"
      ]
     },
     "execution_count": 13,
     "metadata": {},
     "output_type": "execute_result"
    },
    {
     "data": {
      "image/png": "[encoded data removed]",
      "text/plain": [
       "<matplotlib.figure.Figure at 0x7f5a240b5ed0>"
      ]
     },
     "metadata": {},
     "output_type": "display_data"
    }
   ],
   "source": [
    "result = SLT.linked_distances()\n",
    "\n",
    "seaborn.jointplot( result['TreeA'], result['TreeB'] )"
   ]
  },
  {
   "cell_type": "code",
   "execution_count": null,
   "metadata": {
    "collapsed": false
   },
   "outputs": [],
   "source": [
    "result"
   ]
  },
  {
   "cell_type": "code",
   "execution_count": 21,
   "metadata": {
    "collapsed": false
   },
   "outputs": [
    {
     "data": {
      "text/plain": [
       "['Haplotaxodon_microlepis',\n",
       " 'Xenotilapia_flavipinnis',\n",
       " 'Plecodus_straeleni',\n",
       " 'Tanganicodus_irsacae',\n",
       " 'Reganochromis_calliurus',\n",
       " 'Lobochilotes_labiatus',\n",
       " 'Cyprichromis_coloratus',\n",
       " 'Neolamprologus_buescheri',\n",
       " 'Trematochromis_benthicola',\n",
       " 'Tropheus_moorii',\n",
       " 'Chalinochromis_brichardi',\n",
       " 'Triglachromis_otostigma',\n",
       " 'Perissodus_microlepis',\n",
       " 'Lepidiolamprologus_profundicola']"
      ]
     },
     "execution_count": 21,
     "metadata": {},
     "output_type": "execute_result"
    }
   ],
   "source": [
    "SLT.row_names"
   ]
  },
  {
   "cell_type": "code",
   "execution_count": 23,
   "metadata": {
    "collapsed": false
   },
   "outputs": [
    {
     "data": {
      "text/plain": [
       "array([ 2, 20,  6, 18, 10, 14,  0, 22, 12, 16, 24,  8,  4, 26])"
      ]
     },
     "execution_count": 23,
     "metadata": {},
     "output_type": "execute_result"
    }
   ],
   "source": [
    "SLT.col_ids"
   ]
  },
  {
   "cell_type": "code",
   "execution_count": 24,
   "metadata": {
    "collapsed": false
   },
   "outputs": [
    {
     "data": {
      "text/plain": [
       "array([  8.89318163e-323,   0.00000000e+000,   5.92878775e-323,\n",
       "         6.91691904e-323,   7.90505033e-323,   9.88131292e-324,\n",
       "         3.95252517e-323,   4.94065646e-323,   1.97626258e-323,\n",
       "         2.96439388e-323])"
      ]
     },
     "execution_count": 24,
     "metadata": {},
     "output_type": "execute_result"
    }
   ],
   "source": [
    "np.ndarray( 10 )"
   ]
  },
  {
   "cell_type": "code",
   "execution_count": null,
   "metadata": {
    "collapsed": true
   },
   "outputs": [],
   "source": []
  }
 ],
 "metadata": {
  "kernelspec": {
   "display_name": "Python 2",
   "language": "python",
   "name": "python2"
  },
  "language_info": {
   "codemirror_mode": {
    "name": "ipython",
    "version": 2
   },
   "file_extension": ".py",
   "mimetype": "text/x-python",
   "name": "python",
   "nbconvert_exporter": "python",
   "pygments_lexer": "ipython2",
   "version": "2.7.10"
  }
 },
 "nbformat": 4,
 "nbformat_minor": 0
}
