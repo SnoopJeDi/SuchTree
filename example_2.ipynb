{
 "cells": [
  {
   "cell_type": "code",
   "execution_count": 1,
   "metadata": {
    "collapsed": false
   },
   "outputs": [
    {
     "name": "stdout",
     "output_type": "stream",
     "text": [
      "Populating the interactive namespace from numpy and matplotlib\n"
     ]
    }
   ],
   "source": [
    "%load_ext Cython\n",
    "%pylab inline"
   ]
  },
  {
   "cell_type": "code",
   "execution_count": 2,
   "metadata": {
    "collapsed": false
   },
   "outputs": [],
   "source": [
    "from SuchTree import SuchTree, SuchLinkedTrees, pearson\n",
    "import pandas as pd\n",
    "import numpy as np\n",
    "import seaborn"
   ]
  },
  {
   "cell_type": "code",
   "execution_count": 3,
   "metadata": {
    "collapsed": false
   },
   "outputs": [],
   "source": [
    "T1 = SuchTree( 'SuchTree/tests/test.tree' )\n",
    "T2 = SuchTree( 'http://edhar.genomecenter.ucdavis.edu/~russell/fishpoo/fishpoo2_p200_c2_unique_2_clustalo_fasttree.tree' )\n",
    "links = pd.read_csv( 'http://edhar.genomecenter.ucdavis.edu/~russell/fishpoo/fishpoo2_p200_c2_host_count_table.tsv', \n",
    "                    sep='\\t', index_col='Host')\n",
    "links.index = map( lambda x : x.replace(' ','_'), links.index )"
   ]
  },
  {
   "cell_type": "code",
   "execution_count": null,
   "metadata": {
    "collapsed": false
   },
   "outputs": [],
   "source": [
    "T1 = SuchTree( 'SuchTree/tests/test.tree' )\n",
    "T2 = SuchTree( 'SuchTree/tests/test.tree' )\n",
    "links = pd.DataFrame( np.random.random_integers( 0, 3, size=(14,14) ), index=T1.leafs.keys(), columns=T1.leafs.keys() )"
   ]
  },
  {
   "cell_type": "code",
   "execution_count": 5,
   "metadata": {
    "collapsed": false
   },
   "outputs": [
    {
     "name": "stdout",
     "output_type": "stream",
     "text": [
      "140500935895448 allocating columns in 3965708720\n",
      "bulding default subset.\n",
      "bulding default link list.\n",
      "140500935895016 freeing columns in 3965708288\n",
      "140500935895016 freeing table 3965708288\n",
      " "
     ]
    }
   ],
   "source": [
    "#%%prun\n",
    "SLT = SuchLinkedTrees( T1, T2, links )"
   ]
  },
  {
   "cell_type": "code",
   "execution_count": 9,
   "metadata": {
    "collapsed": false
   },
   "outputs": [
    {
     "data": {
      "text/plain": [
       "array([6936, 7040, 7046, 7052, 6880, 6938, 6940, 6942, 6994, 7028, 7034,\n",
       "       7042, 7044, 7048, 7050, 7054, 7056, 6882, 6944, 6950, 6996, 6998,\n",
       "       7014, 7030, 7032, 7036, 7038, 6884, 6886, 6926, 6932, 6934, 6946,\n",
       "       6948, 6952, 6954, 7000, 7008, 6914, 6916, 6918, 6920, 6928, 6930,\n",
       "       6972, 6986, 7002, 7010, 7012, 7016, 7024, 7026, 6888, 6890, 6892,\n",
       "       6922, 6924, 6956, 6958, 6960, 6962, 6964, 6974, 6980, 6992, 7004,\n",
       "       7006, 7022, 6894, 6896, 6898, 6906, 6966, 6976, 6978, 6982, 6984,\n",
       "       6988, 6990, 7018, 7020, 6900, 6908, 6968, 6970, 6902, 6904, 6910,\n",
       "       6912])"
      ]
     },
     "execution_count": 9,
     "metadata": {},
     "output_type": "execute_result"
    }
   ],
   "source": [
    "SLT.TreeB.get_leafs( 7027 )"
   ]
  },
  {
   "cell_type": "code",
   "execution_count": 10,
   "metadata": {
    "collapsed": false
   },
   "outputs": [
    {
     "name": "stdout",
     "output_type": "stream",
     "text": [
      "subset size  : 89\n",
      "subset links : 245\n",
      "link pairs   : 29890\n"
     ]
    }
   ],
   "source": [
    "SLT.subset( 7027 )\n",
    "print 'subset size  :', SLT.subset_size\n",
    "print 'subset links :', SLT.subset_n_links\n",
    "print 'link pairs   :', ( SLT.subset_n_links * ( SLT.subset_n_links -1 ) ) / 2"
   ]
  },
  {
   "cell_type": "code",
   "execution_count": 11,
   "metadata": {
    "collapsed": false
   },
   "outputs": [
    {
     "name": "stdout",
     "output_type": "stream",
     "text": [
      "[ 77012 106174 100632 ...,  60496  40312  67012]\n",
      "[37633 25708 51090 17894 20203 28821 30994 51224 29565 37352 27576 37745\n",
      "  5083  7167 29305 21102  2900 45778 12785 43434 28605 50204 42422 37275\n",
      " 33623 28599   702 22655  8894 16086 52753  7036 22235 29536 25752 19840\n",
      " 25913 45302  7254 11458 46359 17008 17559 13866 13594 30210 42254 35039\n",
      " 51425 38488 26463 19919 21829 33133  7334 23312 43075 15132 11588 14504\n",
      " 38995 14011 31929 26999 51838  5457 31613 17337 50120 27007 49497 28213\n",
      " 45249 47995 41296 44556  4512  5212 16829 50626 26848 50728   386 32460\n",
      " 19676 48859 24163  5066 36179]\n",
      "[6936 7040 7046 7052 6880 6938 6940 6942 6994 7028 7034 7042 7044 7048 7050\n",
      " 7054 7056 6882 6944 6950 6996 6998 7014 7030 7032 7036 7038 6884 6886 6926\n",
      " 6932 6934 6946 6948 6952 6954 7000 7008 6914 6916 6918 6920 6928 6930 6972\n",
      " 6986 7002 7010 7012 7016 7024 7026 6888 6890 6892 6922 6924 6956 6958 6960\n",
      " 6962 6964 6974 6980 6992 7004 7006 7022 6894 6896 6898 6906 6966 6976 6978\n",
      " 6982 6984 6988 6990 7018 7020 6900 6908 6968 6970 6902 6904 6910 6912]\n"
     ]
    }
   ],
   "source": [
    "print SLT.col_ids\n",
    "print SLT.subset_columns\n",
    "print SLT.subset_leafs"
   ]
  },
  {
   "cell_type": "code",
   "execution_count": 12,
   "metadata": {
    "collapsed": false
   },
   "outputs": [
    {
     "data": {
      "text/plain": [
       "<seaborn.axisgrid.JointGrid at 0x7fc8e4e2c8d0>"
      ]
     },
     "execution_count": 12,
     "metadata": {},
     "output_type": "execute_result"
    },
    {
     "data": {
      "image/png": "[encoded data removed]",
      "text/plain": [
       "<matplotlib.figure.Figure at 0x7fc8e4e2c710>"
      ]
     },
     "metadata": {},
     "output_type": "display_data"
    }
   ],
   "source": [
    "result = SLT.linked_distances()\n",
    "\n",
    "seaborn.jointplot( result['TreeA'], result['TreeB'] )"
   ]
  },
  {
   "cell_type": "code",
   "execution_count": 13,
   "metadata": {
    "collapsed": false
   },
   "outputs": [
    {
     "data": {
      "text/plain": [
       "array([10,  6,  0, 13,  5,  7,  4,  3,  8, 11,  9,  1])"
      ]
     },
     "execution_count": 13,
     "metadata": {},
     "output_type": "execute_result"
    }
   ],
   "source": [
    "SLT.get_column_leafs( 0, as_row_ids=True )"
   ]
  },
  {
   "cell_type": "code",
   "execution_count": 14,
   "metadata": {
    "collapsed": false
   },
   "outputs": [
    {
     "data": {
      "text/plain": [
       "array([ True,  True, False,  True,  True,  True,  True,  True,  True,\n",
       "        True,  True,  True, False,  True], dtype=bool)"
      ]
     },
     "execution_count": 14,
     "metadata": {},
     "output_type": "execute_result"
    }
   ],
   "source": [
    "SLT.get_column_links( 0 )"
   ]
  },
  {
   "cell_type": "code",
   "execution_count": 15,
   "metadata": {
    "collapsed": false
   },
   "outputs": [
    {
     "name": "stdout",
     "output_type": "stream",
     "text": [
      "0.248146817088 0.000143279845361\n",
      "0.18133585155 9.87594103208e-05\n",
      "0.153416693211 7.86651289673e-05\n",
      "0.126637220383 7.19502859283e-05\n",
      "0.115383245051 6.75427654642e-05\n",
      "0.105793766677 6.21280560154e-05\n",
      "0.0912341475487 5.4983273003e-05\n",
      "0.0923974737525 4.87027937197e-05\n",
      "0.0871277675033 4.47312886536e-05\n",
      "0.0825873985887 4.41583142674e-05\n",
      "0.0772410929203 4.19182979385e-05\n",
      "0.0731314271688 3.93672307837e-05\n",
      "0.0698771253228 3.73762486561e-05\n",
      "0.0667500272393 3.64398438251e-05\n",
      "0.0635291263461 3.72787872038e-05\n",
      "0.05859375 3.49622787326e-05\n",
      "0.0586588196456 3.26485496771e-05\n",
      "0.058201815933 3.1744606531e-05\n",
      "0.057608909905 3.18590027746e-05\n",
      "0.0559971518815 3.08731359837e-05\n",
      "0.0534171648324 3.07550726575e-05\n",
      "0.0537730455399 3.0517578125e-05\n",
      "0.0510808452964 2.91144133371e-05\n",
      "0.0504798740149 2.91144133371e-05\n",
      "0.0490230470896 2.86102294922e-05\n"
     ]
    },
    {
     "data": {
      "text/plain": [
       "{'n': 2500000, 'r': 0.027969380645110627}"
      ]
     },
     "execution_count": 15,
     "metadata": {},
     "output_type": "execute_result"
    }
   ],
   "source": [
    "SLT.sample_linked_distances(sigma=0.05, n=1000, buckets=100)"
   ]
  },
  {
   "cell_type": "code",
   "execution_count": 16,
   "metadata": {
    "collapsed": false
   },
   "outputs": [
    {
     "data": {
      "text/plain": [
       "0.00911460628299498"
      ]
     },
     "execution_count": 16,
     "metadata": {},
     "output_type": "execute_result"
    }
   ],
   "source": [
    "result = SLT.linked_distances()\n",
    "pearson( result['TreeA'], result['TreeB'] )"
   ]
  },
  {
   "cell_type": "code",
   "execution_count": 18,
   "metadata": {
    "collapsed": false
   },
   "outputs": [
    {
     "name": "stderr",
     "output_type": "stream",
     "text": [
      "sampling trees...\n",
      "0%                          100%\n",
      "[##############################] | ETA: 00:00:00\n",
      "Total time elapsed: 00:16:14\n"
     ]
    }
   ],
   "source": [
    "import pyprind\n",
    "\n",
    "p = pyprind.ProgBar( len( list( SLT.TreeB.get_internal_nodes() ) ), monitor=True, title='sampling trees...' )\n",
    "\n",
    "correlations = []\n",
    "for n,node in enumerate( SLT.TreeB.get_internal_nodes() ) :\n",
    "    p.update()\n",
    "    SLT.subset( node )\n",
    "    if SLT.subset_n_links > 1000 : continue\n",
    "    correlations.append( (n,node,SLT.linked_distances() ) )"
   ]
  },
  {
   "cell_type": "code",
   "execution_count": 21,
   "metadata": {
    "collapsed": false
   },
   "outputs": [
    {
     "data": {
      "text/plain": [
       "1488"
      ]
     },
     "execution_count": 21,
     "metadata": {},
     "output_type": "execute_result"
    }
   ],
   "source": [
    "len( list( SLT.TreeB.get_internal_nodes())) - len( correlations )"
   ]
  },
  {
   "cell_type": "code",
   "execution_count": 35,
   "metadata": {
    "collapsed": false
   },
   "outputs": [
    {
     "name": "stderr",
     "output_type": "stream",
     "text": [
      "sampling trees...\n",
      "0%                          100%\n",
      "[##############################] | ETA: 00:00:00\n",
      "Total time elapsed: 00:00:13\n"
     ]
    }
   ],
   "source": [
    "p = pyprind.ProgBar( len(correlations), monitor=True, title='sampling trees...' )\n",
    "\n",
    "table = {}\n",
    "for n,node,result in correlations :\n",
    "    p.update()\n",
    "    table[node] = { 'n_leafs' : len(SLT.TreeB.get_leafs(node)),\n",
    "                    'r' : pearson( result['TreeA'], result['TreeB'] ) }"
   ]
  },
  {
   "cell_type": "code",
   "execution_count": 31,
   "metadata": {
    "collapsed": false
   },
   "outputs": [],
   "source": [
    "C = pd.DataFrame( table ).T"
   ]
  },
  {
   "cell_type": "code",
   "execution_count": 32,
   "metadata": {
    "collapsed": false
   },
   "outputs": [
    {
     "data": {
      "text/html": [
       "<div>\n",
       "<table border=\"1\" class=\"dataframe\">\n",
       "  <thead>\n",
       "    <tr style=\"text-align: right;\">\n",
       "      <th></th>\n",
       "      <th>n_leafs</th>\n",
       "      <th>r</th>\n",
       "    </tr>\n",
       "  </thead>\n",
       "  <tbody>\n",
       "    <tr>\n",
       "      <th>1</th>\n",
       "      <td>3.0</td>\n",
       "      <td>0.249259</td>\n",
       "    </tr>\n",
       "    <tr>\n",
       "      <th>3</th>\n",
       "      <td>2.0</td>\n",
       "      <td>1.000000</td>\n",
       "    </tr>\n",
       "    <tr>\n",
       "      <th>5</th>\n",
       "      <td>4.0</td>\n",
       "      <td>-0.139001</td>\n",
       "    </tr>\n",
       "    <tr>\n",
       "      <th>7</th>\n",
       "      <td>11.0</td>\n",
       "      <td>-0.049566</td>\n",
       "    </tr>\n",
       "    <tr>\n",
       "      <th>9</th>\n",
       "      <td>2.0</td>\n",
       "      <td>-0.471383</td>\n",
       "    </tr>\n",
       "  </tbody>\n",
       "</table>\n",
       "</div>"
      ],
      "text/plain": [
       "   n_leafs         r\n",
       "1      3.0  0.249259\n",
       "3      2.0  1.000000\n",
       "5      4.0 -0.139001\n",
       "7     11.0 -0.049566\n",
       "9      2.0 -0.471383"
      ]
     },
     "execution_count": 32,
     "metadata": {},
     "output_type": "execute_result"
    }
   ],
   "source": [
    "C.head()"
   ]
  },
  {
   "cell_type": "code",
   "execution_count": 34,
   "metadata": {
    "collapsed": false
   },
   "outputs": [
    {
     "data": {
      "text/plain": [
       "<seaborn.axisgrid.JointGrid at 0x7fc8eb175cd0>"
      ]
     },
     "execution_count": 34,
     "metadata": {},
     "output_type": "execute_result"
    },
    {
     "data": {
      "image/png": "[encoded data removed]",
      "text/plain": [
       "<matplotlib.figure.Figure at 0x7fc8ea064e50>"
      ]
     },
     "metadata": {},
     "output_type": "display_data"
    }
   ],
   "source": [
    "seaborn.jointplot( 'n_leafs', 'r', data=C )"
   ]
  },
  {
   "cell_type": "code",
   "execution_count": null,
   "metadata": {
    "collapsed": true
   },
   "outputs": [],
   "source": []
  }
 ],
 "metadata": {
  "kernelspec": {
   "display_name": "Python 2",
   "language": "python",
   "name": "python2"
  },
  "language_info": {
   "codemirror_mode": {
    "name": "ipython",
    "version": 2
   },
   "file_extension": ".py",
   "mimetype": "text/x-python",
   "name": "python",
   "nbconvert_exporter": "python",
   "pygments_lexer": "ipython2",
   "version": "2.7.10"
  }
 },
 "nbformat": 4,
 "nbformat_minor": 0
}
