{
 "cells": [
  {
   "cell_type": "code",
   "execution_count": 1,
   "metadata": {
    "collapsed": false
   },
   "outputs": [
    {
     "name": "stdout",
     "output_type": "stream",
     "text": [
      "Populating the interactive namespace from numpy and matplotlib\n"
     ]
    }
   ],
   "source": [
    "%load_ext Cython\n",
    "%pylab inline"
   ]
  },
  {
   "cell_type": "code",
   "execution_count": 2,
   "metadata": {
    "collapsed": false
   },
   "outputs": [
    {
     "name": "stderr",
     "output_type": "stream",
     "text": [
      "/home/russell/opt/local/lib/python2.7/site-packages/matplotlib/__init__.py:872: UserWarning: axes.color_cycle is deprecated and replaced with axes.prop_cycle; please use the latter.\n",
      "  warnings.warn(self.msg_depr % (key, alt_key))\n"
     ]
    }
   ],
   "source": [
    "from SuchTree import SuchTree, SuchLinkedTrees\n",
    "import pandas as pd\n",
    "import numpy as np\n",
    "import seaborn"
   ]
  },
  {
   "cell_type": "code",
   "execution_count": 3,
   "metadata": {
    "collapsed": false
   },
   "outputs": [],
   "source": [
    "T1 = SuchTree( 'SuchTree/tests/test.tree' )\n",
    "T2 = SuchTree( 'http://edhar.genomecenter.ucdavis.edu/~russell/fishpoo/fishpoo2_p200_c2_unique_2_clustalo_fasttree.tree' )\n",
    "links = pd.read_csv( 'http://edhar.genomecenter.ucdavis.edu/~russell/fishpoo/fishpoo2_p200_c2_host_count_table.tsv', \n",
    "                    sep='\\t', index_col='Host')\n",
    "links.index = map( lambda x : x.replace(' ','_'), links.index )"
   ]
  },
  {
   "cell_type": "code",
   "execution_count": null,
   "metadata": {
    "collapsed": false
   },
   "outputs": [],
   "source": [
    "T1 = SuchTree( 'SuchTree/tests/test.tree' )\n",
    "T2 = SuchTree( 'SuchTree/tests/test.tree' )\n",
    "links = pd.DataFrame( np.random.random_integers( 0, 3, size=(14,14) ), index=T1.leafs.keys(), columns=T1.leafs.keys() )"
   ]
  },
  {
   "cell_type": "code",
   "execution_count": 4,
   "metadata": {
    "collapsed": false
   },
   "outputs": [
    {
     "name": "stdout",
     "output_type": "stream",
     "text": [
      "139993375484744 allocating columns in 3211438944\n",
      "bulding default subset.\n",
      "bulding default link list.\n"
     ]
    }
   ],
   "source": [
    "SLT = SuchLinkedTrees( T1, T2, links )\n",
    "#SLT = SuchLinkedTrees( T1, T2, links )"
   ]
  },
  {
   "cell_type": "code",
   "execution_count": null,
   "metadata": {
    "collapsed": false
   },
   "outputs": [],
   "source": [
    "SLT.dump_table()"
   ]
  },
  {
   "cell_type": "code",
   "execution_count": null,
   "metadata": {
    "collapsed": false
   },
   "outputs": [],
   "source": [
    "SLT.linkmatrix"
   ]
  },
  {
   "cell_type": "code",
   "execution_count": null,
   "metadata": {
    "collapsed": false
   },
   "outputs": [],
   "source": [
    "SLT.linklist[0,0]"
   ]
  },
  {
   "cell_type": "code",
   "execution_count": null,
   "metadata": {
    "collapsed": false
   },
   "outputs": [],
   "source": [
    "result = SLT.linked_distances()\n",
    "\n",
    "seaborn.jointplot( result['TreeA'], result['TreeB'] )"
   ]
  },
  {
   "cell_type": "code",
   "execution_count": null,
   "metadata": {
    "collapsed": false
   },
   "outputs": [],
   "source": [
    "SLT.TreeB.get_internal_nodes()"
   ]
  },
  {
   "cell_type": "code",
   "execution_count": null,
   "metadata": {
    "collapsed": false
   },
   "outputs": [],
   "source": [
    "SLT.TreeB.get_leafs( 7027 )"
   ]
  },
  {
   "cell_type": "code",
   "execution_count": null,
   "metadata": {
    "collapsed": false
   },
   "outputs": [],
   "source": [
    "SLT.subset( 7027 )\n",
    "print SLT.subset_size, SLT.subset_n_links"
   ]
  },
  {
   "cell_type": "code",
   "execution_count": null,
   "metadata": {
    "collapsed": false
   },
   "outputs": [],
   "source": [
    "print SLT.col_ids\n",
    "print SLT.subset_columns\n",
    "print SLT.subset_leafs"
   ]
  },
  {
   "cell_type": "code",
   "execution_count": null,
   "metadata": {
    "collapsed": false
   },
   "outputs": [],
   "source": [
    "SLT.linklist"
   ]
  },
  {
   "cell_type": "code",
   "execution_count": null,
   "metadata": {
    "collapsed": false
   },
   "outputs": [],
   "source": [
    "size = (SLT.subset_size*(SLT.subset_size-1))/2\n",
    "\n",
    "ids_a = zeros( (size, 2), dtype=int )\n",
    "ids_b = zeros( (size, 2), dtype=int )\n",
    "k=0\n",
    "for i in xrange( SLT.subset_size ) :\n",
    "    for j in xrange( i ) :\n",
    "        ids_a[ k, 0 ] = SLT.linklist[ i, 1 ]\n",
    "        ids_a[ k, 1 ] = SLT.linklist[ j, 1 ]\n",
    "        ids_b[ k, 0 ] = SLT.linklist[ i, 0 ]\n",
    "        ids_b[ k, 1 ] = SLT.linklist[ j, 0 ]\n",
    "        k += 1"
   ]
  },
  {
   "cell_type": "code",
   "execution_count": null,
   "metadata": {
    "collapsed": false
   },
   "outputs": [],
   "source": [
    "result = SLT.linked_distances()\n",
    "\n",
    "seaborn.jointplot( result['TreeA'], result['TreeB'] )"
   ]
  },
  {
   "cell_type": "code",
   "execution_count": null,
   "metadata": {
    "collapsed": false
   },
   "outputs": [],
   "source": [
    "SLT.get_column_leafs( 0, as_row_ids=True )"
   ]
  },
  {
   "cell_type": "code",
   "execution_count": null,
   "metadata": {
    "collapsed": false
   },
   "outputs": [],
   "source": [
    "SLT.get_column_links( 0 )"
   ]
  },
  {
   "cell_type": "code",
   "execution_count": null,
   "metadata": {
    "collapsed": false
   },
   "outputs": [],
   "source": [
    "s = links[ links.index[0] ]\n",
    "map( list(SLT.col_ids).index, map( lambda x : T1.leafs[x],  s[ s > 0 ].index ) )"
   ]
  },
  {
   "cell_type": "code",
   "execution_count": null,
   "metadata": {
    "collapsed": false
   },
   "outputs": [],
   "source": [
    "set((1,2,3)) == set((1,2,3))"
   ]
  },
  {
   "cell_type": "code",
   "execution_count": null,
   "metadata": {
    "collapsed": false
   },
   "outputs": [],
   "source": [
    "for a,b, in zip( s.index, SLT.row_names ) :\n",
    "    print a == b"
   ]
  },
  {
   "cell_type": "code",
   "execution_count": null,
   "metadata": {
    "collapsed": false
   },
   "outputs": [],
   "source": [
    "for n in xrange( 14 ) :\n",
    "    for a,b in zip( SLT.linkmatrix[0], SLT.get_column_links(0) ) :\n",
    "        print a == b"
   ]
  },
  {
   "cell_type": "code",
   "execution_count": null,
   "metadata": {
    "collapsed": false
   },
   "outputs": [],
   "source": [
    "for col in SLT.col_names :\n",
    "    for row in SLT.row_names :\n",
    "        col_id = SLT.col_names.index(col)\n",
    "        row_id = SLT.row_names.index(row)\n",
    "        print bool(links[col][row]) == SLT.linkmatrix[col_id][row_id]"
   ]
  },
  {
   "cell_type": "code",
   "execution_count": null,
   "metadata": {
    "collapsed": false
   },
   "outputs": [],
   "source": [
    "%%cython\n",
    "\n",
    "cdef extern from \"stdlib.h\":\n",
    "    long int random()\n",
    "\n",
    "def foo_rand() :\n",
    "    return random()"
   ]
  },
  {
   "cell_type": "code",
   "execution_count": null,
   "metadata": {
    "collapsed": false
   },
   "outputs": [],
   "source": [
    "foo_rand()"
   ]
  },
  {
   "cell_type": "code",
   "execution_count": null,
   "metadata": {
    "collapsed": false
   },
   "outputs": [],
   "source": [
    "random"
   ]
  },
  {
   "cell_type": "code",
   "execution_count": null,
   "metadata": {
    "collapsed": false
   },
   "outputs": [],
   "source": [
    "%%cython\n",
    "from numpy.random import randint\n",
    "cdef extern from 'stdint.h' :\n",
    "    ctypedef unsigned long int uint64_t\n",
    "    uint64_t UINT64_MAX\n",
    "\n",
    "cdef class rng :\n",
    "    cdef uint64_t x\n",
    "    cdef uint64_t a\n",
    "    \n",
    "    def __cinit__( self ) :\n",
    "        #self.x = randint( UINT64_MAX >> 1 )\n",
    "        self.x = 1\n",
    "        self.a = 2685821657736338717\n",
    "     \n",
    "    cdef unsigned long _xorshift64star( self ) nogil :\n",
    "        self.x ^= self.x >> 12 # a\n",
    "        self.x ^= self.x << 25 # b\n",
    "        self.x ^= self.x >> 27 # c\n",
    "        return self.x * self.a\n",
    "\n",
    "    def xorshiftstar( self ) :\n",
    "        return self._xorshift64star()\n",
    "    \n",
    "    def random_int( self, uint64_t n ) :\n",
    "        return self._xorshift64star() % n"
   ]
  },
  {
   "cell_type": "code",
   "execution_count": null,
   "metadata": {
    "collapsed": false
   },
   "outputs": [],
   "source": [
    "R = rng()\n",
    "print R.xorshiftstar()\n",
    "print R.xorshiftstar()\n",
    "print R.xorshiftstar()\n",
    "print R.xorshiftstar()\n",
    "print R.xorshiftstar()\n",
    "print R.xorshiftstar()\n",
    "\n",
    "#randint( 18446744073709551615 >> 1 )"
   ]
  },
  {
   "cell_type": "code",
   "execution_count": null,
   "metadata": {
    "collapsed": false
   },
   "outputs": [],
   "source": [
    "b = []\n",
    "for i in xrange( 10000 ) :\n",
    "    b.append(R.xorshiftstar( 100 ))"
   ]
  },
  {
   "cell_type": "code",
   "execution_count": null,
   "metadata": {
    "collapsed": false
   },
   "outputs": [],
   "source": [
    "SLT.linklist"
   ]
  },
  {
   "cell_type": "code",
   "execution_count": 11,
   "metadata": {
    "collapsed": false
   },
   "outputs": [
    {
     "name": "stdout",
     "output_type": "stream",
     "text": [
      "0.133099406958 0.00433306628838\n",
      "0.102310940623 0.00471829809248\n",
      "0.0690533965826 0.00464188307524\n",
      "0.0669212564826 0.00403016945347\n",
      "0.0471185073256 0.00332739576697\n"
     ]
    },
    {
     "data": {
      "text/plain": [
       "{'n': 200000, 'r': 0.007994653677467312}"
      ]
     },
     "execution_count": 11,
     "metadata": {},
     "output_type": "execute_result"
    }
   ],
   "source": [
    "SLT.sample_linked_distances(sigma=0.05, n=4000, buckets=10)"
   ]
  },
  {
   "cell_type": "code",
   "execution_count": null,
   "metadata": {
    "collapsed": false
   },
   "outputs": [],
   "source": [
    "for n,s in enumerate(links.iteritems()) :\n",
    "    if n > 10 : break\n",
    "    print s"
   ]
  },
  {
   "cell_type": "code",
   "execution_count": null,
   "metadata": {
    "collapsed": false
   },
   "outputs": [],
   "source": [
    "links.columns[1]"
   ]
  },
  {
   "cell_type": "code",
   "execution_count": null,
   "metadata": {
    "collapsed": false
   },
   "outputs": [],
   "source": [
    "%%cython\n",
    "from SuchTree import SuchTree\n",
    "from itertools import combinations\n",
    "from numpy import array, std\n",
    "\n",
    "T1 = SuchTree( 'SuchTree/tests/test.tree' )\n",
    "\n",
    "cdef double [:] d_mv\n",
    "\n",
    "pairs = []\n",
    "for a,b in combinations( T1.leafs.values(), 2 ) :\n",
    "    pairs.append( [a,b] )\n",
    "d = T1.distances( array(pairs) )\n",
    "d_mv = d\n",
    "print std(d_mv)"
   ]
  },
  {
   "cell_type": "code",
   "execution_count": null,
   "metadata": {
    "collapsed": false
   },
   "outputs": [],
   "source": [
    "( mean(d**2) - mean(d)**2 )**(0.5)"
   ]
  },
  {
   "cell_type": "code",
   "execution_count": null,
   "metadata": {
    "collapsed": true
   },
   "outputs": [],
   "source": []
  }
 ],
 "metadata": {
  "kernelspec": {
   "display_name": "Python 2",
   "language": "python",
   "name": "python2"
  },
  "language_info": {
   "codemirror_mode": {
    "name": "ipython",
    "version": 2
   },
   "file_extension": ".py",
   "mimetype": "text/x-python",
   "name": "python",
   "nbconvert_exporter": "python",
   "pygments_lexer": "ipython2",
   "version": "2.7.10"
  }
 },
 "nbformat": 4,
 "nbformat_minor": 0
}
