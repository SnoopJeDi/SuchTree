{
 "cells": [
  {
   "cell_type": "code",
   "execution_count": 1,
   "metadata": {
    "collapsed": false
   },
   "outputs": [
    {
     "name": "stdout",
     "output_type": "stream",
     "text": [
      "Populating the interactive namespace from numpy and matplotlib\n"
     ]
    }
   ],
   "source": [
    "%load_ext Cython\n",
    "%pylab inline"
   ]
  },
  {
   "cell_type": "code",
   "execution_count": 2,
   "metadata": {
    "collapsed": false
   },
   "outputs": [],
   "source": [
    "from SuchTree import SuchTree, SuchLinkedTrees\n",
    "import pandas as pd\n",
    "import numpy as np\n",
    "import seaborn"
   ]
  },
  {
   "cell_type": "code",
   "execution_count": 3,
   "metadata": {
    "collapsed": false
   },
   "outputs": [],
   "source": [
    "T1 = SuchTree( 'SuchTree/tests/test.tree' )\n",
    "T2 = SuchTree( 'http://edhar.genomecenter.ucdavis.edu/~russell/fishpoo/fishpoo2_p200_c2_unique_2_clustalo_fasttree.tree' )\n",
    "links = pd.read_csv( 'http://edhar.genomecenter.ucdavis.edu/~russell/fishpoo/fishpoo2_p200_c2_host_count_table.tsv', \n",
    "                    sep='\\t', index_col='Host')\n",
    "links.index = map( lambda x : x.replace(' ','_'), links.index )"
   ]
  },
  {
   "cell_type": "code",
   "execution_count": null,
   "metadata": {
    "collapsed": false
   },
   "outputs": [],
   "source": [
    "T1 = SuchTree( 'SuchTree/tests/test.tree' )\n",
    "T2 = SuchTree( 'SuchTree/tests/test.tree' )\n",
    "links = pd.DataFrame( np.random.random_integers( 0, 3, size=(14,14) ), index=T1.leafs.keys(), columns=T1.leafs.keys() )"
   ]
  },
  {
   "cell_type": "code",
   "execution_count": 4,
   "metadata": {
    "collapsed": false
   },
   "outputs": [
    {
     "name": "stdout",
     "output_type": "stream",
     "text": [
      "140522318968864 allocating columns in 3873945656\n",
      "bulding default subset.\n",
      "bulding default link list.\n"
     ]
    }
   ],
   "source": [
    "SLT = SuchLinkedTrees( T1, T2, links )\n",
    "#SLT = SuchLinkedTrees( T1, T2, links )"
   ]
  },
  {
   "cell_type": "code",
   "execution_count": null,
   "metadata": {
    "collapsed": false
   },
   "outputs": [],
   "source": [
    "SLT.dump_table()"
   ]
  },
  {
   "cell_type": "code",
   "execution_count": null,
   "metadata": {
    "collapsed": false
   },
   "outputs": [],
   "source": [
    "SLT.linkmatrix"
   ]
  },
  {
   "cell_type": "code",
   "execution_count": null,
   "metadata": {
    "collapsed": false
   },
   "outputs": [],
   "source": [
    "SLT.linklist[0,0]"
   ]
  },
  {
   "cell_type": "code",
   "execution_count": null,
   "metadata": {
    "collapsed": false
   },
   "outputs": [],
   "source": [
    "result = SLT.linked_distances()\n",
    "\n",
    "seaborn.jointplot( result['TreeA'], result['TreeB'] )"
   ]
  },
  {
   "cell_type": "code",
   "execution_count": null,
   "metadata": {
    "collapsed": false
   },
   "outputs": [],
   "source": [
    "SLT.TreeB.get_internal_nodes()"
   ]
  },
  {
   "cell_type": "code",
   "execution_count": 5,
   "metadata": {
    "collapsed": false
   },
   "outputs": [
    {
     "data": {
      "text/plain": [
       "array([6936, 7040, 7046, 7052, 6880, 6938, 6940, 6942, 6994, 7028, 7034,\n",
       "       7042, 7044, 7048, 7050, 7054, 7056, 6882, 6944, 6950, 6996, 6998,\n",
       "       7014, 7030, 7032, 7036, 7038, 6884, 6886, 6926, 6932, 6934, 6946,\n",
       "       6948, 6952, 6954, 7000, 7008, 6914, 6916, 6918, 6920, 6928, 6930,\n",
       "       6972, 6986, 7002, 7010, 7012, 7016, 7024, 7026, 6888, 6890, 6892,\n",
       "       6922, 6924, 6956, 6958, 6960, 6962, 6964, 6974, 6980, 6992, 7004,\n",
       "       7006, 7022, 6894, 6896, 6898, 6906, 6966, 6976, 6978, 6982, 6984,\n",
       "       6988, 6990, 7018, 7020, 6900, 6908, 6968, 6970, 6902, 6904, 6910,\n",
       "       6912])"
      ]
     },
     "execution_count": 5,
     "metadata": {},
     "output_type": "execute_result"
    }
   ],
   "source": [
    "SLT.TreeB.get_leafs( 7027 )"
   ]
  },
  {
   "cell_type": "code",
   "execution_count": 6,
   "metadata": {
    "collapsed": false
   },
   "outputs": [
    {
     "name": "stdout",
     "output_type": "stream",
     "text": [
      "89 245\n"
     ]
    }
   ],
   "source": [
    "SLT.subset( 7027 )\n",
    "print SLT.subset_size, SLT.subset_n_links"
   ]
  },
  {
   "cell_type": "code",
   "execution_count": 7,
   "metadata": {
    "collapsed": false
   },
   "outputs": [
    {
     "name": "stdout",
     "output_type": "stream",
     "text": [
      "[ 77012 106174 100632 ...,  60496  40312  67012]\n",
      "[37633 25708 51090 17894 20203 28821 30994 51224 29565 37352 27576 37745\n",
      "  5083  7167 29305 21102  2900 45778 12785 43434 28605 50204 42422 37275\n",
      " 33623 28599   702 22655  8894 16086 52753  7036 22235 29536 25752 19840\n",
      " 25913 45302  7254 11458 46359 17008 17559 13866 13594 30210 42254 35039\n",
      " 51425 38488 26463 19919 21829 33133  7334 23312 43075 15132 11588 14504\n",
      " 38995 14011 31929 26999 51838  5457 31613 17337 50120 27007 49497 28213\n",
      " 45249 47995 41296 44556  4512  5212 16829 50626 26848 50728   386 32460\n",
      " 19676 48859 24163  5066 36179]\n",
      "[6936 7040 7046 7052 6880 6938 6940 6942 6994 7028 7034 7042 7044 7048 7050\n",
      " 7054 7056 6882 6944 6950 6996 6998 7014 7030 7032 7036 7038 6884 6886 6926\n",
      " 6932 6934 6946 6948 6952 6954 7000 7008 6914 6916 6918 6920 6928 6930 6972\n",
      " 6986 7002 7010 7012 7016 7024 7026 6888 6890 6892 6922 6924 6956 6958 6960\n",
      " 6962 6964 6974 6980 6992 7004 7006 7022 6894 6896 6898 6906 6966 6976 6978\n",
      " 6982 6984 6988 6990 7018 7020 6900 6908 6968 6970 6902 6904 6910 6912]\n"
     ]
    }
   ],
   "source": [
    "print SLT.col_ids\n",
    "print SLT.subset_columns\n",
    "print SLT.subset_leafs"
   ]
  },
  {
   "cell_type": "code",
   "execution_count": 8,
   "metadata": {
    "collapsed": false
   },
   "outputs": [
    {
     "data": {
      "text/plain": [
       "array([[6936,    2],\n",
       "       [7040,    0],\n",
       "       [7040,    8],\n",
       "       [7046,    8],\n",
       "       [7052,    0],\n",
       "       [7052,    8],\n",
       "       [6880,    2],\n",
       "       [6880,   20],\n",
       "       [6880,   10],\n",
       "       [6880,    0],\n",
       "       [6880,   12],\n",
       "       [6880,    8],\n",
       "       [6938,    2],\n",
       "       [6938,    0],\n",
       "       [6940,    0],\n",
       "       [6940,   18],\n",
       "       [6940,    8],\n",
       "       [6942,    8],\n",
       "       [6994,    0],\n",
       "       [6994,   18],\n",
       "       [7028,    2],\n",
       "       [7028,    8],\n",
       "       [7028,   26],\n",
       "       [7034,   12],\n",
       "       [7034,    0],\n",
       "       [7042,    2],\n",
       "       [7042,    8],\n",
       "       [7044,    0],\n",
       "       [7044,   16],\n",
       "       [7044,   20],\n",
       "       [7044,   24],\n",
       "       [7044,    8],\n",
       "       [7048,    2],\n",
       "       [7048,   14],\n",
       "       [7048,    0],\n",
       "       [7048,   16],\n",
       "       [7048,   24],\n",
       "       [7048,    8],\n",
       "       [7050,    2],\n",
       "       [7050,    0],\n",
       "       [7054,   12],\n",
       "       [7054,    0],\n",
       "       [7054,   22],\n",
       "       [7054,   10],\n",
       "       [7054,   20],\n",
       "       [7056,    8],\n",
       "       [7056,   24],\n",
       "       [6882,    8],\n",
       "       [6882,    6],\n",
       "       [6944,    2],\n",
       "       [6944,    0],\n",
       "       [6944,   16],\n",
       "       [6944,    8],\n",
       "       [6944,   26],\n",
       "       [6950,   14],\n",
       "       [6950,   18],\n",
       "       [6950,   10],\n",
       "       [6996,    0],\n",
       "       [6996,   22],\n",
       "       [6996,    8],\n",
       "       [6998,    8],\n",
       "       [7014,   14],\n",
       "       [7014,    8],\n",
       "       [7014,   22],\n",
       "       [7014,   26],\n",
       "       [7030,    2],\n",
       "       [7030,    8],\n",
       "       [7032,    2],\n",
       "       [7036,    0],\n",
       "       [7038,    2],\n",
       "       [7038,   20],\n",
       "       [7038,    6],\n",
       "       [7038,   10],\n",
       "       [7038,   14],\n",
       "       [7038,    0],\n",
       "       [7038,   22],\n",
       "       [7038,   12],\n",
       "       [7038,   18],\n",
       "       [7038,   24],\n",
       "       [7038,    8],\n",
       "       [7038,   16],\n",
       "       [7038,    4],\n",
       "       [7038,   26],\n",
       "       [6884,    2],\n",
       "       [6884,    0],\n",
       "       [6884,   22],\n",
       "       [6884,    8],\n",
       "       [6886,    2],\n",
       "       [6886,   20],\n",
       "       [6886,    0],\n",
       "       [6886,   18],\n",
       "       [6886,   24],\n",
       "       [6886,    8],\n",
       "       [6886,   16],\n",
       "       [6926,    2],\n",
       "       [6926,    0],\n",
       "       [6932,   16],\n",
       "       [6934,    2],\n",
       "       [6934,    6],\n",
       "       [6934,    0],\n",
       "       [6934,   16],\n",
       "       [6934,   24],\n",
       "       [6934,    8],\n",
       "       [6934,   26],\n",
       "       [6946,    0],\n",
       "       [6946,   20],\n",
       "       [6948,    0],\n",
       "       [6948,   10],\n",
       "       [6952,    0],\n",
       "       [6952,    8],\n",
       "       [6954,    2],\n",
       "       [6954,    0],\n",
       "       [6954,    8],\n",
       "       [7000,    0],\n",
       "       [7008,    8],\n",
       "       [7008,    4],\n",
       "       [6914,   24],\n",
       "       [6916,    0],\n",
       "       [6916,   10],\n",
       "       [6918,   10],\n",
       "       [6920,    0],\n",
       "       [6920,   22],\n",
       "       [6928,    2],\n",
       "       [6928,    0],\n",
       "       [6928,    4],\n",
       "       [6928,    8],\n",
       "       [6930,    2],\n",
       "       [6930,   20],\n",
       "       [6930,   10],\n",
       "       [6930,    0],\n",
       "       [6930,   18],\n",
       "       [6930,    8],\n",
       "       [6930,   16],\n",
       "       [6930,    4],\n",
       "       [6930,   26],\n",
       "       [6972,    2],\n",
       "       [6972,    0],\n",
       "       [6972,   18],\n",
       "       [6972,   22],\n",
       "       [6972,    8],\n",
       "       [6986,    0],\n",
       "       [6986,   18],\n",
       "       [7002,   12],\n",
       "       [7002,   20],\n",
       "       [7002,   22],\n",
       "       [7002,   26],\n",
       "       [7010,    2],\n",
       "       [7010,   18],\n",
       "       [7012,    8],\n",
       "       [7012,   20],\n",
       "       [7016,    2],\n",
       "       [7016,   26],\n",
       "       [7024,    0],\n",
       "       [7024,   20],\n",
       "       [7024,    8],\n",
       "       [7026,    0],\n",
       "       [7026,   20],\n",
       "       [6888,    0],\n",
       "       [6888,   20],\n",
       "       [6890,    2],\n",
       "       [6892,   14],\n",
       "       [6892,    8],\n",
       "       [6892,   16],\n",
       "       [6892,   24],\n",
       "       [6922,    0],\n",
       "       [6922,    4],\n",
       "       [6924,   10],\n",
       "       [6924,   26],\n",
       "       [6956,    2],\n",
       "       [6956,    0],\n",
       "       [6956,   18],\n",
       "       [6956,   14],\n",
       "       [6956,   20],\n",
       "       [6958,    2],\n",
       "       [6958,    0],\n",
       "       [6958,    8],\n",
       "       [6960,    0],\n",
       "       [6960,    8],\n",
       "       [6962,    2],\n",
       "       [6962,    8],\n",
       "       [6964,    0],\n",
       "       [6974,    0],\n",
       "       [6974,   18],\n",
       "       [6974,   22],\n",
       "       [6980,   12],\n",
       "       [6980,    0],\n",
       "       [6980,   20],\n",
       "       [6980,   22],\n",
       "       [6980,    8],\n",
       "       [6992,    8],\n",
       "       [7004,   16],\n",
       "       [7004,   24],\n",
       "       [7006,    0],\n",
       "       [7006,    8],\n",
       "       [7022,    2],\n",
       "       [7022,    0],\n",
       "       [6894,    8],\n",
       "       [6894,   16],\n",
       "       [6896,    2],\n",
       "       [6896,    0],\n",
       "       [6896,   26],\n",
       "       [6898,    8],\n",
       "       [6906,    0],\n",
       "       [6906,    8],\n",
       "       [6966,    4],\n",
       "       [6976,    8],\n",
       "       [6976,   18],\n",
       "       [6978,    2],\n",
       "       [6978,    4],\n",
       "       [6982,   22],\n",
       "       [6984,    2],\n",
       "       [6984,    8],\n",
       "       [6984,   24],\n",
       "       [6988,    2],\n",
       "       [6988,    8],\n",
       "       [6988,   24],\n",
       "       [6990,   12],\n",
       "       [6990,    0],\n",
       "       [6990,   18],\n",
       "       [6990,    8],\n",
       "       [7018,    8],\n",
       "       [7020,    2],\n",
       "       [7020,    0],\n",
       "       [6900,    8],\n",
       "       [6908,    0],\n",
       "       [6908,   24],\n",
       "       [6968,    2],\n",
       "       [6970,    0],\n",
       "       [6970,   16],\n",
       "       [6902,   12],\n",
       "       [6902,    8],\n",
       "       [6904,    2],\n",
       "       [6904,    0],\n",
       "       [6904,   16],\n",
       "       [6904,    8],\n",
       "       [6910,    2],\n",
       "       [6910,   20],\n",
       "       [6910,    0],\n",
       "       [6910,   18],\n",
       "       [6910,   24],\n",
       "       [6910,    8],\n",
       "       [6910,   16],\n",
       "       [6910,   26],\n",
       "       [6912,    2]])"
      ]
     },
     "execution_count": 8,
     "metadata": {},
     "output_type": "execute_result"
    }
   ],
   "source": [
    "SLT.linklist"
   ]
  },
  {
   "cell_type": "code",
   "execution_count": null,
   "metadata": {
    "collapsed": false
   },
   "outputs": [],
   "source": [
    "size = (SLT.subset_size*(SLT.subset_size-1))/2\n",
    "\n",
    "ids_a = zeros( (size, 2), dtype=int )\n",
    "ids_b = zeros( (size, 2), dtype=int )\n",
    "k=0\n",
    "for i in xrange( SLT.subset_size ) :\n",
    "    for j in xrange( i ) :\n",
    "        ids_a[ k, 0 ] = SLT.linklist[ i, 1 ]\n",
    "        ids_a[ k, 1 ] = SLT.linklist[ j, 1 ]\n",
    "        ids_b[ k, 0 ] = SLT.linklist[ i, 0 ]\n",
    "        ids_b[ k, 1 ] = SLT.linklist[ j, 0 ]\n",
    "        k += 1"
   ]
  },
  {
   "cell_type": "code",
   "execution_count": 10,
   "metadata": {
    "collapsed": false
   },
   "outputs": [
    {
     "data": {
      "text/plain": [
       "<seaborn.axisgrid.JointGrid at 0x7fcde3f0fb10>"
      ]
     },
     "execution_count": 10,
     "metadata": {},
     "output_type": "execute_result"
    },
    {
     "data": {
      "image/png": "[encoded data removed]",
      "text/plain": [
       "<matplotlib.figure.Figure at 0x7fcde3f0f4d0>"
      ]
     },
     "metadata": {},
     "output_type": "display_data"
    }
   ],
   "source": [
    "result = SLT.linked_distances()\n",
    "\n",
    "seaborn.jointplot( result['TreeA'], result['TreeB'] )"
   ]
  },
  {
   "cell_type": "code",
   "execution_count": null,
   "metadata": {
    "collapsed": false
   },
   "outputs": [],
   "source": [
    "SLT.get_column_leafs( 0, as_row_ids=True )"
   ]
  },
  {
   "cell_type": "code",
   "execution_count": null,
   "metadata": {
    "collapsed": false
   },
   "outputs": [],
   "source": [
    "SLT.get_column_links( 0 )"
   ]
  },
  {
   "cell_type": "code",
   "execution_count": null,
   "metadata": {
    "collapsed": false
   },
   "outputs": [],
   "source": [
    "s = links[ links.index[0] ]\n",
    "map( list(SLT.col_ids).index, map( lambda x : T1.leafs[x],  s[ s > 0 ].index ) )"
   ]
  },
  {
   "cell_type": "code",
   "execution_count": null,
   "metadata": {
    "collapsed": false
   },
   "outputs": [],
   "source": [
    "set((1,2,3)) == set((1,2,3))"
   ]
  },
  {
   "cell_type": "code",
   "execution_count": null,
   "metadata": {
    "collapsed": false
   },
   "outputs": [],
   "source": [
    "for a,b, in zip( s.index, SLT.row_names ) :\n",
    "    print a == b"
   ]
  },
  {
   "cell_type": "code",
   "execution_count": null,
   "metadata": {
    "collapsed": false
   },
   "outputs": [],
   "source": [
    "for n in xrange( 14 ) :\n",
    "    for a,b in zip( SLT.linkmatrix[0], SLT.get_column_links(0) ) :\n",
    "        print a == b"
   ]
  },
  {
   "cell_type": "code",
   "execution_count": null,
   "metadata": {
    "collapsed": false
   },
   "outputs": [],
   "source": [
    "for col in SLT.col_names :\n",
    "    for row in SLT.row_names :\n",
    "        col_id = SLT.col_names.index(col)\n",
    "        row_id = SLT.row_names.index(row)\n",
    "        print bool(links[col][row]) == SLT.linkmatrix[col_id][row_id]"
   ]
  },
  {
   "cell_type": "code",
   "execution_count": 14,
   "metadata": {
    "collapsed": false
   },
   "outputs": [],
   "source": [
    "%%cython\n",
    "\n",
    "cdef extern from \"stdlib.h\":\n",
    "    long int random()\n",
    "\n",
    "def foo_rand() :\n",
    "    return random()"
   ]
  },
  {
   "cell_type": "code",
   "execution_count": 27,
   "metadata": {
    "collapsed": false
   },
   "outputs": [
    {
     "data": {
      "text/plain": [
       "374727854"
      ]
     },
     "execution_count": 27,
     "metadata": {},
     "output_type": "execute_result"
    }
   ],
   "source": [
    "foo_rand()"
   ]
  },
  {
   "cell_type": "code",
   "execution_count": 16,
   "metadata": {
    "collapsed": false
   },
   "outputs": [
    {
     "data": {
      "text/plain": [
       "<module 'numpy.random' from '/home/russell/opt/local/lib/python2.7/site-packages/numpy/random/__init__.pyc'>"
      ]
     },
     "execution_count": 16,
     "metadata": {},
     "output_type": "execute_result"
    }
   ],
   "source": [
    "random"
   ]
  },
  {
   "cell_type": "code",
   "execution_count": 127,
   "metadata": {
    "collapsed": false
   },
   "outputs": [],
   "source": [
    "%%cython\n",
    "from numpy.random import randint\n",
    "cdef extern from 'stdint.h' :\n",
    "    ctypedef unsigned long int uint64_t\n",
    "    uint64_t UINT64_MAX\n",
    "\n",
    "cdef class rng :\n",
    "    cdef uint64_t x\n",
    "    cdef uint64_t a\n",
    "    \n",
    "    def __cinit__( self ) :\n",
    "        #self.x = randint( UINT64_MAX >> 1 )\n",
    "        self.x = 1\n",
    "        self.a = 2685821657736338717\n",
    "     \n",
    "    cdef unsigned long _xorshift64star( self ) nogil :\n",
    "        self.x ^= self.x >> 12 # a\n",
    "        self.x ^= self.x << 25 # b\n",
    "        self.x ^= self.x >> 27 # c\n",
    "        return self.x * self.a\n",
    "\n",
    "    def xorshiftstar( self ) :\n",
    "        return self._xorshift64star()\n",
    "    \n",
    "    def random_int( self, uint64_t n ) :\n",
    "        return self._xorshift64star() % n"
   ]
  },
  {
   "cell_type": "code",
   "execution_count": 128,
   "metadata": {
    "collapsed": false
   },
   "outputs": [
    {
     "name": "stdout",
     "output_type": "stream",
     "text": [
      "5180492295206395165\n",
      "12380297144915551517\n",
      "13389498078930870103\n",
      "5599127315341312413\n",
      "1036278371763004928\n",
      "14440594066559445721\n"
     ]
    }
   ],
   "source": [
    "R = rng()\n",
    "print R.xorshiftstar()\n",
    "print R.xorshiftstar()\n",
    "print R.xorshiftstar()\n",
    "print R.xorshiftstar()\n",
    "print R.xorshiftstar()\n",
    "print R.xorshiftstar()\n",
    "\n",
    "#randint( 18446744073709551615 >> 1 )"
   ]
  },
  {
   "cell_type": "code",
   "execution_count": 85,
   "metadata": {
    "collapsed": false
   },
   "outputs": [],
   "source": [
    "b = []\n",
    "for i in xrange( 10000 ) :\n",
    "    b.append(R.xorshiftstar( 100 ))"
   ]
  },
  {
   "cell_type": "code",
   "execution_count": 86,
   "metadata": {
    "collapsed": false
   },
   "outputs": [
    {
     "data": {
      "text/plain": [
       "[<matplotlib.lines.Line2D at 0x7fcde2e29110>]"
      ]
     },
     "execution_count": 86,
     "metadata": {},
     "output_type": "execute_result"
    },
    {
     "data": {
      "image/png": "[encoded data removed]",
      "text/plain": [
       "<matplotlib.figure.Figure at 0x7fcde334a550>"
      ]
     },
     "metadata": {},
     "output_type": "display_data"
    }
   ],
   "source": [
    "plot(b,'ro')"
   ]
  },
  {
   "cell_type": "code",
   "execution_count": null,
   "metadata": {
    "collapsed": true
   },
   "outputs": [],
   "source": []
  }
 ],
 "metadata": {
  "kernelspec": {
   "display_name": "Python 2",
   "language": "python",
   "name": "python2"
  },
  "language_info": {
   "codemirror_mode": {
    "name": "ipython",
    "version": 2
   },
   "file_extension": ".py",
   "mimetype": "text/x-python",
   "name": "python",
   "nbconvert_exporter": "python",
   "pygments_lexer": "ipython2",
   "version": "2.7.10"
  }
 },
 "nbformat": 4,
 "nbformat_minor": 0
}
