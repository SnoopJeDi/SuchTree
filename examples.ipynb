{
 "cells": [
  {
   "cell_type": "code",
   "execution_count": 1,
   "metadata": {
    "collapsed": false
   },
   "outputs": [
    {
     "name": "stdout",
     "output_type": "stream",
     "text": [
      "Populating the interactive namespace from numpy and matplotlib\n"
     ]
    }
   ],
   "source": [
    "%pylab inline"
   ]
  },
  {
   "cell_type": "code",
   "execution_count": 2,
   "metadata": {
    "collapsed": true
   },
   "outputs": [],
   "source": [
    "from SuchTree import SuchTree\n",
    "import seaborn"
   ]
  },
  {
   "cell_type": "markdown",
   "metadata": {},
   "source": [
    "### Calculating distances\n",
    "\n",
    "`SuchTree` has two ways approaches for calculating distances. One pair a time, or\n",
    "several large groups of pairs at once. The large groups is more efficient because\n",
    "it does each calculation without the interpreter's overhead."
   ]
  },
  {
   "cell_type": "code",
   "execution_count": 8,
   "metadata": {
    "collapsed": false
   },
   "outputs": [],
   "source": [
    "T = SuchTree( 'SuchTree/tests/test.tree')"
   ]
  },
  {
   "cell_type": "code",
   "execution_count": 4,
   "metadata": {
    "collapsed": false
   },
   "outputs": [],
   "source": [
    "D1 = zeros( ( len(T.leafs),len(T.leafs) ) )\n",
    "for i,a in enumerate(T.leafs.values()) :\n",
    "    for j,b in enumerate( T.leafs.values() ) :\n",
    "        D1[i,j] = T.distance( a, b )"
   ]
  },
  {
   "cell_type": "code",
   "execution_count": 5,
   "metadata": {
    "collapsed": false
   },
   "outputs": [
    {
     "data": {
      "text/plain": [
       "<matplotlib.axes._subplots.AxesSubplot at 0x7feb42852850>"
      ]
     },
     "execution_count": 5,
     "metadata": {},
     "output_type": "execute_result"
    },
    {
     "data": {
      "image/png": "[encoded data removed]",
      "text/plain": [
       "<matplotlib.figure.Figure at 0x7feb6c5b1d10>"
      ]
     },
     "metadata": {},
     "output_type": "display_data"
    }
   ],
   "source": [
    "seaborn.heatmap(D1)"
   ]
  },
  {
   "cell_type": "code",
   "execution_count": 6,
   "metadata": {
    "collapsed": false
   },
   "outputs": [],
   "source": [
    "D2_list = []\n",
    "for i,a in enumerate(T.leafs.values()) :\n",
    "    for j,b in enumerate( T.leafs.values() ) :\n",
    "        D2_list.append( ( a, b ) )\n",
    "D2_array = array( D2_list )\n",
    "D2 = T.distances( D2_array )\n",
    "D2 = D2.reshape( ( len(T.leafs), len(T.leafs) ) )"
   ]
  },
  {
   "cell_type": "code",
   "execution_count": 7,
   "metadata": {
    "collapsed": false
   },
   "outputs": [
    {
     "data": {
      "text/plain": [
       "<matplotlib.axes._subplots.AxesSubplot at 0x7feb4238ba90>"
      ]
     },
     "execution_count": 7,
     "metadata": {},
     "output_type": "execute_result"
    },
    {
     "data": {
      "image/png": "[encoded data removed]",
      "text/plain": [
       "<matplotlib.figure.Figure at 0x7feb42583b90>"
      ]
     },
     "metadata": {},
     "output_type": "display_data"
    }
   ],
   "source": [
    "seaborn.heatmap(D2)"
   ]
  },
  {
   "cell_type": "markdown",
   "metadata": {},
   "source": [
    "### Comparing the topologies of two large trees\n",
    "\n",
    "Here, we use `SuchTree` to compare the topology of a two trees containing the taxa\n",
    "but constructe with different methods ([`FastTree`](http://www.microbesonline.org/fasttree/) and \n",
    "[`Neighbor_joining`](https://en.wikipedia.org/wiki/Neighbor_joining)). One million random pairs are \n",
    "sampled from each tree, and the distances compared.\n",
    "\n",
    "On my [rather elderly laptop](https://en.wikipedia.org/wiki/ThinkPad_X_Series#X200s), \n",
    "the distance calculations in both trees are completed in 5.46 seconds (most of which\n",
    "is mapping the names to the node indicies)."
   ]
  },
  {
   "cell_type": "code",
   "execution_count": 9,
   "metadata": {
    "collapsed": false
   },
   "outputs": [],
   "source": [
    "T1 = SuchTree( 'http://edhar.genomecenter.ucdavis.edu/~russell/fishpoo/fishpoo2_p200_c2_unique_2_clustalo_fasttree.tree' )\n",
    "T2 = SuchTree( 'http://edhar.genomecenter.ucdavis.edu/~russell/fishpoo/fishpoo2_p200_c2_unique_2_clustalo_fasttree_nj.tree' )"
   ]
  },
  {
   "cell_type": "code",
   "execution_count": 10,
   "metadata": {
    "collapsed": false
   },
   "outputs": [
    {
     "data": {
      "text/plain": [
       "(54327, 54327)"
      ]
     },
     "execution_count": 10,
     "metadata": {},
     "output_type": "execute_result"
    }
   ],
   "source": [
    "len(T1.leafs), len(T2.leafs)"
   ]
  },
  {
   "cell_type": "code",
   "execution_count": 16,
   "metadata": {
    "collapsed": false
   },
   "outputs": [
    {
     "name": "stdout",
     "output_type": "stream",
     "text": [
      "CPU times: user 11.3 s, sys: 40 ms, total: 11.4 s\n",
      "Wall time: 11.5 s\n",
      "CPU times: user 6.92 s, sys: 20 ms, total: 6.94 s\n",
      "Wall time: 6.95 s\n"
     ]
    }
   ],
   "source": [
    "import random\n",
    "\n",
    "N = 1000000\n",
    "\n",
    "v = T1.leafs.keys()\n",
    "\n",
    "pairs = []\n",
    "for i in range(N) :\n",
    "    pairs.append( ( random.choice( v ), random.choice( v ) ) )\n",
    "\n",
    "#pairs = array(pairs)    \n",
    "\n",
    "%time D1 = T1.distances_by_name( pairs )\n",
    "%time D2 = T2.distances_by_name( pairs )"
   ]
  },
  {
   "cell_type": "code",
   "execution_count": 17,
   "metadata": {
    "collapsed": false
   },
   "outputs": [
    {
     "data": {
      "text/plain": [
       "<matplotlib.text.Text at 0x7feb3feab210>"
      ]
     },
     "execution_count": 17,
     "metadata": {},
     "output_type": "execute_result"
    },
    {
     "data": {
      "image/png": "[encoded data removed]",
      "text/plain": [
       "<matplotlib.figure.Figure at 0x7feb3aa57150>"
      ]
     },
     "metadata": {},
     "output_type": "display_data"
    }
   ],
   "source": [
    "plot( D1, D2, 'ro', alpha=0.2 )\n",
    "xlabel( 'ML' )\n",
    "ylabel( 'neighbor joining')"
   ]
  },
  {
   "cell_type": "code",
   "execution_count": 18,
   "metadata": {
    "collapsed": false
   },
   "outputs": [
    {
     "name": "stdout",
     "output_type": "stream",
     "text": [
      "KendalltauResult(correlation=0.70781260868596663, pvalue=0.0)\n",
      "(0.96908529404045174, 0.0)\n"
     ]
    }
   ],
   "source": [
    "from scipy.stats import kendalltau, pearsonr\n",
    "\n",
    "print kendalltau( D1, D2 )\n",
    "print pearsonr( D1, D2 )"
   ]
  },
  {
   "cell_type": "markdown",
   "metadata": {},
   "source": [
    "### Running with multiple threads\n",
    "\n",
    "Another advantage of `SuchTree`'s support for performing batches of distance \n",
    "calculations is that these calculations can run outside of Python's \n",
    "[global interpreter lock](https://lbolla.info/blog/2013/12/23/python-threads-cython-gil).\n",
    "This makes it possible to parallelize with [Threads](https://docs.python.org/2/library/threading.html).\n",
    "Python's `Thread` has less overhead than the\n",
    "[multiprocessing](https://docs.python.org/2/library/multiprocessing.html) package's\n",
    "`Process`, and `Thread` objects can access the same memory. \n",
    "\n",
    "`SuchTree` intentionally does not allow the user to alter trees once they are created,\n",
    "and so distance calculations are always thread safe. This makes it possible to use only \n",
    "*one* instance of a tree for all threads, which ought to give you the best chance of\n",
    "keeping it within L2 cache."
   ]
  },
  {
   "cell_type": "code",
   "execution_count": 19,
   "metadata": {
    "collapsed": false
   },
   "outputs": [
    {
     "name": "stdout",
     "output_type": "stream",
     "text": [
      "1000000\n",
      "1000000\n",
      "1000000\n",
      "1000000\n",
      "1000000\n",
      "1000000\n",
      "1000000\n",
      "1000000\n",
      "1000000\n",
      "1000000\n",
      "1000000\n",
      "1000000\n"
     ]
    },
    {
     "name": "stderr",
     "output_type": "stream",
     "text": [
      "/home/russell/opt/lib/python2.7/site-packages/ipykernel/__main__.py:34: FutureWarning: elementwise comparison failed; returning scalar instead, but in the future will perform elementwise comparison\n"
     ]
    }
   ],
   "source": [
    "from threading import Thread\n",
    "from Queue import Queue\n",
    "\n",
    "n = 2\n",
    "m = 12\n",
    "\n",
    "work_q = Queue()\n",
    "done_q = Queue()\n",
    "\n",
    "for i in xrange( m ) :\n",
    "    work_q.put( pairs )\n",
    "\n",
    "for i in xrange( n ) :\n",
    "    work_q.put( 'STOP' )\n",
    "    \n",
    "def worker( work_q, done_q ) :\n",
    "    for task in iter( work_q.get, 'STOP' ) :\n",
    "        D = T1.distances_by_name( task )\n",
    "        done_q.put( D )\n",
    "    return True\n",
    "\n",
    "threads = []\n",
    "\n",
    "for i in xrange( n ) :\n",
    "    thread = Thread( target=worker, args=( work_q, done_q ) )\n",
    "    thread.start()\n",
    "    threads.append( thread )\n",
    "    \n",
    "for thread in threads :\n",
    "    thread.join()\n",
    "\n",
    "done_q.put( 'STOP' )\n",
    "\n",
    "for task in iter( done_q.get, 'STOP' ) :\n",
    "    print len(task)"
   ]
  },
  {
   "cell_type": "code",
   "execution_count": 23,
   "metadata": {
    "collapsed": false
   },
   "outputs": [
    {
     "data": {
      "text/plain": [
       "True"
      ]
     },
     "execution_count": 23,
     "metadata": {},
     "output_type": "execute_result"
    }
   ],
   "source": [
    "def leafs(id):\n",
    "    to_visit = [id]\n",
    "    for i in to_visit :\n",
    "        l,r = T.get_children( i )\n",
    "        if l == -1 :\n",
    "            yield i\n",
    "        else :\n",
    "            to_visit.append( l )\n",
    "            to_visit.append( r )\n",
    "set( list(leafs( 21 )) ) == set( T.leafs.values() )"
   ]
  },
  {
   "cell_type": "code",
   "execution_count": 19,
   "metadata": {
    "collapsed": false
   },
   "outputs": [
    {
     "data": {
      "text/plain": [
       "[0, 2, 4, 6]"
      ]
     },
     "execution_count": 19,
     "metadata": {},
     "output_type": "execute_result"
    }
   ],
   "source": [
    "leafs(1)"
   ]
  },
  {
   "cell_type": "code",
   "execution_count": null,
   "metadata": {
    "collapsed": true
   },
   "outputs": [],
   "source": []
  }
 ],
 "metadata": {
  "kernelspec": {
   "display_name": "Python 2",
   "language": "python",
   "name": "python2"
  },
  "language_info": {
   "codemirror_mode": {
    "name": "ipython",
    "version": 2
   },
   "file_extension": ".py",
   "mimetype": "text/x-python",
   "name": "python",
   "nbconvert_exporter": "python",
   "pygments_lexer": "ipython2",
   "version": "2.7.10"
  }
 },
 "nbformat": 4,
 "nbformat_minor": 0
}
