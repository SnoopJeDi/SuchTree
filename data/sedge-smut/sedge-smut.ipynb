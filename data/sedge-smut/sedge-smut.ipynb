{
 "cells": [
  {
   "cell_type": "markdown",
   "metadata": {},
   "source": [
    "# Sedge grasses and smut fungi\n",
    "\n",
    "This notebook rebuilds the co-phylogeny of sedge grasses and their smut fungi \n",
    "parasites found in [*Phylogenetic congruence of parasitic smut fungi \n",
    "(Anthracoidea, Anthracoideaceae) and their host plants (Carex, Cyperaceae): \n",
    "Cospeciation or host-shift speciation?*](http://www.amjbot.org/content/102/7/1108.full),\n",
    "by Marcial Escudero.\n",
    "\n"
   ]
  },
  {
   "cell_type": "code",
   "execution_count": 7,
   "metadata": {
    "collapsed": true
   },
   "outputs": [],
   "source": [
    "sedge_outgroup = { \n",
    "    'Dulichium arundinacea'    : [ 'DQ998949', 'DQ998895', 'DQ999002' ],\n",
    "    'Eriophorum angustifolium' : [ 'DQ998950', 'DQ998896', 'DQ999003' ],\n",
    "    'Eriophorum vaginatum'     : [ 'AY242008', 'AY242009', 'AY757692' ],\n",
    "    'Trichophorum alpinum'     : [ 'AY757432', 'AY757400', 'AY757496' ],\n",
    "    'Trichophorum cespitosum'  : [ 'DQ998951', 'DQ998897', 'DQ999004' ],\n",
    "    }\n",
    "\n",
    "sedge_ingroup = {\n",
    "    'Unicinia rubra'       : [ 'AY012628', 'AY012629', 'AY115852' ],\n",
    "    'Carex rupestris'      : [ 'AY244521', 'AY244522', 'AF164934' ],\n",
    "    'Kobresia myosuroides' : [ 'AY242036', 'AY242037', 'AY757566', 'AF284985' ],\n",
    "    'Carex curvula'        : [ 'AY242030', 'AY242031', 'AY757564' ],\n",
    "    'Carex baldensis'      : [ 'GU176152', 'EF363121', 'GU176107' ],\n",
    "    'Carex chordorrhiza'   : [ 'AY757409', 'AY757389', 'AY757485' ],\n",
    "    'Carex heleonastes'    : [ 'AY757418', 'AY757388', 'AY757484' ],\n",
    "    'Carex brunnescens'    : [ 'DQ115114', 'DQ115115', 'AY757481' ],\n",
    "    'Carex lachenalii'     : [ 'EU288556', 'EU288440' ],\n",
    "    'Carex arenaria'       : [ 'DQ115100', 'DQ115101' ],\n",
    "    'Carex dioica'         : [ 'DQ115146', 'DQ115147', 'AF191816' ],\n",
    "    'Carex davalliana'     : [ 'EU288548', 'EU288432' ],\n",
    "    'Carex parallela'      : [ 'EU001046', 'EU001195', 'GQ244737' ],\n",
    "    'Carex paniculata'     : [ 'EU288562', 'DQ115237', 'EU288446' ],\n",
    "    'Carex echinata'       : [ 'AY757415', 'AY757381', 'AY757477' ],\n",
    "    'Carex muricata'       : [ 'AF285036', 'AF284934' ],\n",
    "    'Carex ornithopoda'    : [ 'AY278269', 'KR857280' ],\n",
    "    'Carex panicea'        : [ 'DQ998937', 'DQ998883', 'DQ998990' ],\n",
    "    'Carex meadii'         : [ 'KR857284', 'KR857281' ],\n",
    "    'Carex atrofusca'      : [ 'AY278313', 'AM085581' ],\n",
    "    'Carex flacca'         : [ 'DQ998915', 'DQ998862', 'DQ998968' ],\n",
    "    'Carex buxbaumii'      : [ 'EU288545', 'EU288428' ],\n",
    "    'Carex digitata'       : [ 'AY757624', 'AY757684', 'AY757552' ],\n",
    "    'Carex bigelowii'      : [ 'GQ223580', 'GQ223498', 'GQ244699' ],\n",
    "    'Carex ferruginea'     : [ 'EU288550', 'EU288434' ],\n",
    "    'Carex glacilalis'     : [ 'AY757625', 'AY757685', 'AY757553' ],\n",
    "    'Carex pilulifera'     : [ 'AF284975', 'AY325438', 'AF284873' ],\n",
    "    'Carex alba'           : [ 'AY278259', 'KR857282' ],\n",
    "    'Carex firma'          : [ 'AF284995', 'AF284893' ],\n",
    "    'Carex sempervirens'   : [ 'EU288565', 'EU288449' ],\n",
    "    'Carex capillaris'     : [ 'DQ998905', 'DQ998852', 'DQ998958' ],\n",
    "    'Carex limosa'         : [ 'AY757595', 'AY757656', 'AY757522' ],\n",
    "    'Carex magellanica'    : [ 'AY278292', 'AY757655', 'AY757521' ],\n",
    "    'Carex hostiana'       : [ 'EU288555', 'JX409830', 'EU288439' ],\n",
    "    'Carex hirta'          : [ 'EU288553', 'EU288437' ],\n",
    "    'Carex elata'          : [ 'AY770470', 'AY770440', 'HM590257' ],\n",
    "    'Carex globularis'     : [ 'AF285049', 'AF284947' ],\n",
    "    'Carex vesicaria'      : [ 'AY278289', 'KR857283' ],\n",
    "    'Carex rostrata'       : [ 'EU288564', 'EU288448' ],\n",
    "    'Carex riparia'        : [ 'AY757571', 'AY757633', 'AY757498' ],\n",
    "    'Carex lasiocarpa'     : [ 'DQ998925', 'DQ998872', 'DQ998978' ]\n",
    "    }"
   ]
  },
  {
   "cell_type": "code",
   "execution_count": 3,
   "metadata": {
    "collapsed": true
   },
   "outputs": [],
   "source": [
    "smut_outgroup = {\n",
    "    'Sporisorium monakai'           : [ 'AY740161' ], \n",
    "    'Sporisorium pseudechinolaenae' : [ 'AY740139' ], \n",
    "    'Sporisorium manilense'         : [ 'AY740112' ],\n",
    "    'Shivasia solida'               : [ 'JF966729' ],\n",
    "    'Shivasia solida'               : [ 'JF966730' ]\n",
    "    }\n",
    "    \n",
    "smut_ingroup = {\n",
    "    'Anthracoidea caricis-meadii' : [ 'JN863083' ], \n",
    "    'Anthracoidea carphae'        : [ 'AY563614', 'DQ875359' ], \n",
    "    'Anthracoidea sclerotiformis' : [ 'AY563613', 'DQ363331' ],\n",
    "    'Anthracoidea curvulae'       : [ 'AY563612', 'AY563611' ],\n",
    "    'Anthracoidea elynae'         : [ 'AY563610', 'AY563609' ],\n",
    "    'Anthracoidea sp 1'           : [ 'AY563608' ],\n",
    "    'Anthracoidea aspera'         : [ 'AY563607' ],\n",
    "    'Anthracoidea arenaria'       : [ 'AY563606' ],\n",
    "    'Anthracoidea inclusa'        : [ 'AY563605' ],\n",
    "    'Anthracoidea subinclusa'     : [ 'AY563604', 'AY563603', 'AY563602' ],\n",
    "    'Anthracoidea heterospora'    : [ 'AY563601', 'AY563600' ],\n",
    "    'Anthracoidea baldensis'      : [ 'AY563599' ],\n",
    "    'Anthracoidea rupestris'      : [ 'AY563598' ],\n",
    "    'Anthracoidea vankyi'         : [ 'AY563597' ],\n",
    "    'Anthracoidea capillaris'     : [ 'AY563596' ],\n",
    "    'Anthracoidea caricis-albae'  : [ 'AY563595', 'AY563594' ],\n",
    "    'Anthracoidea globularis'     : [ 'AY563593' ],\n",
    "    'Anthracoidea irregularis'    : [ 'AY563592', 'AY563591', 'AY563590' ],\n",
    "    'Anthracoidea caricis'        : [ 'AY563589' ],\n",
    "    'Anthracoidea sp 2'           : [ 'AY563588' ],\n",
    "    'Anthracoidea sempervirentis' : [ 'AY563587', 'AY563586', 'AY563585' ],\n",
    "    'Anthracoidea misandrae'      : [ 'AY563584' ],\n",
    "    'Anthracoidea lasiocarpae'    : [ 'AY563583' ],\n",
    "    'Anthracoidea buxbaumii'      : [ 'AY563582' ],\n",
    "    'Anthracoidea hostianae'      : [ 'AY563581' ],\n",
    "    'Anthracoidea paniceae'       : [ 'AY563580' ],\n",
    "    'Anthracoidea karii'          : [ 'AY563579', 'AY563578', 'AY563577', 'AY563576',\n",
    "                                      'AY563575', 'AY563574', 'DQ875358' ],\n",
    "    'Anthracoidea limosa'         : [ 'AY563573', 'AY563572' ],\n",
    "    'Anthracoidea turfosa'        : [ 'AY563571', 'AY563570', 'AY563569' ],\n",
    "    'Anthracoidea bigelowii'      : [ 'AY563568', 'AY563567', 'AY563566' ],\n",
    "    'Anthracoidea pratensis'      : [ 'AY563565', 'AY563564', 'AY563563', 'DQ875360' ]\n",
    "    }"
   ]
  },
  {
   "cell_type": "code",
   "execution_count": 12,
   "metadata": {
    "collapsed": false
   },
   "outputs": [
    {
     "name": "stdout",
     "output_type": "stream",
     "text": [
      "Trichophorum cespitosum : TRNL, 5.8S, 1F\n",
      "Eriophorum vaginatum : TRNL, 5.8S, 1F\n",
      "Trichophorum alpinum : TRNL, 5.8S, 1F\n",
      "Dulichium arundinacea : TRNL, 5.8S, 1F\n",
      "Eriophorum angustifolium : TRNL, 5.8S, 1F\n",
      "Carex parallela : TRNL, 5.8S, 1F\n",
      "Carex flacca : TRNL, 5.8S, 1F\n",
      "Carex glacilalis : TRNL, 5.8S, 1F\n",
      "Carex arenaria : 5.8S, 1F\n",
      "Carex firma : TRNL, 5.8S\n",
      "Carex curvula : TRNL, 5.8S, 1F\n",
      "Carex heleonastes : TRNL, 5.8S, 1F\n",
      "Carex limosa : TRNL, 5.8S, 1F\n",
      "Carex ferruginea : TRNL, 5.8S\n",
      "Carex magellanica : TRNL, 5.8S, 1F\n",
      "Carex brunnescens : TRNL, 5.8S, 1F\n",
      "Carex ornithopoda : 5.8S, 1F\n",
      "Carex sempervirens : TRNL, 5.8S\n",
      "Carex davalliana : TRNL, 5.8S\n",
      "Carex paniculata : TRNL, 5.8S, 1F\n",
      "Carex dioica : TRNL, 5.8S, 1F\n",
      "Carex buxbaumii : TRNL, 5.8S\n",
      "Carex meadii : 5.8S, 1F\n",
      "Carex rostrata : TRNL, 5.8S\n",
      "Carex chordorrhiza : TRNL, 5.8S, 1F\n",
      "Carex capillaris : TRNL, 5.8S, 1F\n",
      "Carex rupestris : TRNL, 5.8S, 1F\n",
      "Carex echinata : TRNL, 5.8S, 1F\n",
      "Carex lachenalii : TRNL, 5.8S\n",
      "Carex alba : 5.8S, 1F\n",
      "Carex atrofusca : TRNL, 5.8S\n",
      "Carex globularis : TRNL, 5.8S\n",
      "Carex bigelowii : TRNL, 5.8S, 1F\n",
      "Carex vesicaria : 5.8S, 1F\n",
      "Unicinia rubra : TRNL, 5.8S, 1F\n",
      "Carex riparia : TRNL, 5.8S, 1F\n",
      "Carex hostiana : TRNL, 5.8S, 1F\n",
      "Carex digitata : TRNL, 5.8S, 1F\n",
      "Carex hirta : TRNL, 5.8S\n",
      "Carex panicea : TRNL, 5.8S, 1F\n",
      "Kobresia myosuroides : TRNL, 5.8S, 1F\n",
      "Carex lasiocarpa : TRNL, 5.8S, 1F\n",
      "Carex pilulifera : TRNL, 5.8S, 1F\n",
      "Carex elata : TRNL, 5.8S, 1F\n",
      "Carex muricata : TRNL, 5.8S\n",
      "Carex baldensis : TRNL, 5.8S, 1F\n"
     ]
    },
    {
     "ename": "TypeError",
     "evalue": "(\"object of type 'float' has no len()\", u'occurred at index 1F')",
     "output_type": "error",
     "traceback": [
      "\u001b[0;31m------------------------------------------------------\u001b[0m",
      "\u001b[0;31mTypeError\u001b[0m            Traceback (most recent call last)",
      "\u001b[0;32m<ipython-input-12-5472e347d3eb>\u001b[0m in \u001b[0;36m<module>\u001b[0;34m()\u001b[0m\n\u001b[1;32m     41\u001b[0m \u001b[0;34m\u001b[0m\u001b[0m\n\u001b[1;32m     42\u001b[0m \u001b[0msedge_genetable\u001b[0m \u001b[0;34m=\u001b[0m \u001b[0mpandas\u001b[0m\u001b[0;34m.\u001b[0m\u001b[0mDataFrame\u001b[0m\u001b[0;34m(\u001b[0m \u001b[0msedge_genetable\u001b[0m \u001b[0;34m)\u001b[0m\u001b[0;34m.\u001b[0m\u001b[0mT\u001b[0m\u001b[0;34m\u001b[0m\u001b[0m\n\u001b[0;32m---> 43\u001b[0;31m \u001b[0msedge_genetable\u001b[0m\u001b[0;34m.\u001b[0m\u001b[0mapplymap\u001b[0m\u001b[0;34m(\u001b[0m \u001b[0mlen\u001b[0m \u001b[0;34m)\u001b[0m\u001b[0;34m\u001b[0m\u001b[0m\n\u001b[0m",
      "\u001b[0;32m/home/russell/opt/local/lib/python2.7/site-packages/pandas/core/frame.pyc\u001b[0m in \u001b[0;36mapplymap\u001b[0;34m(self, func)\u001b[0m\n\u001b[1;32m   4248\u001b[0m             \u001b[0;32mreturn\u001b[0m \u001b[0mlib\u001b[0m\u001b[0;34m.\u001b[0m\u001b[0mmap_infer\u001b[0m\u001b[0;34m(\u001b[0m\u001b[0mx\u001b[0m\u001b[0;34m.\u001b[0m\u001b[0masobject\u001b[0m\u001b[0;34m,\u001b[0m \u001b[0mfunc\u001b[0m\u001b[0;34m)\u001b[0m\u001b[0;34m\u001b[0m\u001b[0m\n\u001b[1;32m   4249\u001b[0m \u001b[0;34m\u001b[0m\u001b[0m\n\u001b[0;32m-> 4250\u001b[0;31m         \u001b[0;32mreturn\u001b[0m \u001b[0mself\u001b[0m\u001b[0;34m.\u001b[0m\u001b[0mapply\u001b[0m\u001b[0;34m(\u001b[0m\u001b[0minfer\u001b[0m\u001b[0;34m)\u001b[0m\u001b[0;34m\u001b[0m\u001b[0m\n\u001b[0m\u001b[1;32m   4251\u001b[0m \u001b[0;34m\u001b[0m\u001b[0m\n\u001b[1;32m   4252\u001b[0m     \u001b[0;31m# ----------------------------------------------------------------------\u001b[0m\u001b[0;34m\u001b[0m\u001b[0;34m\u001b[0m\u001b[0m\n",
      "\u001b[0;32m/home/russell/opt/local/lib/python2.7/site-packages/pandas/core/frame.pyc\u001b[0m in \u001b[0;36mapply\u001b[0;34m(self, func, axis, broadcast, raw, reduce, args, **kwds)\u001b[0m\n\u001b[1;32m   4059\u001b[0m                     \u001b[0;32mif\u001b[0m \u001b[0mreduce\u001b[0m \u001b[0;32mis\u001b[0m \u001b[0mNone\u001b[0m\u001b[0;34m:\u001b[0m\u001b[0;34m\u001b[0m\u001b[0m\n\u001b[1;32m   4060\u001b[0m                         \u001b[0mreduce\u001b[0m \u001b[0;34m=\u001b[0m \u001b[0mTrue\u001b[0m\u001b[0;34m\u001b[0m\u001b[0m\n\u001b[0;32m-> 4061\u001b[0;31m                     \u001b[0;32mreturn\u001b[0m \u001b[0mself\u001b[0m\u001b[0;34m.\u001b[0m\u001b[0m_apply_standard\u001b[0m\u001b[0;34m(\u001b[0m\u001b[0mf\u001b[0m\u001b[0;34m,\u001b[0m \u001b[0maxis\u001b[0m\u001b[0;34m,\u001b[0m \u001b[0mreduce\u001b[0m\u001b[0;34m=\u001b[0m\u001b[0mreduce\u001b[0m\u001b[0;34m)\u001b[0m\u001b[0;34m\u001b[0m\u001b[0m\n\u001b[0m\u001b[1;32m   4062\u001b[0m             \u001b[0;32melse\u001b[0m\u001b[0;34m:\u001b[0m\u001b[0;34m\u001b[0m\u001b[0m\n\u001b[1;32m   4063\u001b[0m                 \u001b[0;32mreturn\u001b[0m \u001b[0mself\u001b[0m\u001b[0;34m.\u001b[0m\u001b[0m_apply_broadcast\u001b[0m\u001b[0;34m(\u001b[0m\u001b[0mf\u001b[0m\u001b[0;34m,\u001b[0m \u001b[0maxis\u001b[0m\u001b[0;34m)\u001b[0m\u001b[0;34m\u001b[0m\u001b[0m\n",
      "\u001b[0;32m/home/russell/opt/local/lib/python2.7/site-packages/pandas/core/frame.pyc\u001b[0m in \u001b[0;36m_apply_standard\u001b[0;34m(self, func, axis, ignore_failures, reduce)\u001b[0m\n\u001b[1;32m   4155\u001b[0m             \u001b[0;32mtry\u001b[0m\u001b[0;34m:\u001b[0m\u001b[0;34m\u001b[0m\u001b[0m\n\u001b[1;32m   4156\u001b[0m                 \u001b[0;32mfor\u001b[0m \u001b[0mi\u001b[0m\u001b[0;34m,\u001b[0m \u001b[0mv\u001b[0m \u001b[0;32min\u001b[0m \u001b[0menumerate\u001b[0m\u001b[0;34m(\u001b[0m\u001b[0mseries_gen\u001b[0m\u001b[0;34m)\u001b[0m\u001b[0;34m:\u001b[0m\u001b[0;34m\u001b[0m\u001b[0m\n\u001b[0;32m-> 4157\u001b[0;31m                     \u001b[0mresults\u001b[0m\u001b[0;34m[\u001b[0m\u001b[0mi\u001b[0m\u001b[0;34m]\u001b[0m \u001b[0;34m=\u001b[0m \u001b[0mfunc\u001b[0m\u001b[0;34m(\u001b[0m\u001b[0mv\u001b[0m\u001b[0;34m)\u001b[0m\u001b[0;34m\u001b[0m\u001b[0m\n\u001b[0m\u001b[1;32m   4158\u001b[0m                     \u001b[0mkeys\u001b[0m\u001b[0;34m.\u001b[0m\u001b[0mappend\u001b[0m\u001b[0;34m(\u001b[0m\u001b[0mv\u001b[0m\u001b[0;34m.\u001b[0m\u001b[0mname\u001b[0m\u001b[0;34m)\u001b[0m\u001b[0;34m\u001b[0m\u001b[0m\n\u001b[1;32m   4159\u001b[0m             \u001b[0;32mexcept\u001b[0m \u001b[0mException\u001b[0m \u001b[0;32mas\u001b[0m \u001b[0me\u001b[0m\u001b[0;34m:\u001b[0m\u001b[0;34m\u001b[0m\u001b[0m\n",
      "\u001b[0;32m/home/russell/opt/local/lib/python2.7/site-packages/pandas/core/frame.pyc\u001b[0m in \u001b[0;36minfer\u001b[0;34m(x)\u001b[0m\n\u001b[1;32m   4246\u001b[0m         \u001b[0;31m# if we have a dtype == 'M8[ns]', provide boxed values\u001b[0m\u001b[0;34m\u001b[0m\u001b[0;34m\u001b[0m\u001b[0m\n\u001b[1;32m   4247\u001b[0m         \u001b[0;32mdef\u001b[0m \u001b[0minfer\u001b[0m\u001b[0;34m(\u001b[0m\u001b[0mx\u001b[0m\u001b[0;34m)\u001b[0m\u001b[0;34m:\u001b[0m\u001b[0;34m\u001b[0m\u001b[0m\n\u001b[0;32m-> 4248\u001b[0;31m             \u001b[0;32mreturn\u001b[0m \u001b[0mlib\u001b[0m\u001b[0;34m.\u001b[0m\u001b[0mmap_infer\u001b[0m\u001b[0;34m(\u001b[0m\u001b[0mx\u001b[0m\u001b[0;34m.\u001b[0m\u001b[0masobject\u001b[0m\u001b[0;34m,\u001b[0m \u001b[0mfunc\u001b[0m\u001b[0;34m)\u001b[0m\u001b[0;34m\u001b[0m\u001b[0m\n\u001b[0m\u001b[1;32m   4249\u001b[0m \u001b[0;34m\u001b[0m\u001b[0m\n\u001b[1;32m   4250\u001b[0m         \u001b[0;32mreturn\u001b[0m \u001b[0mself\u001b[0m\u001b[0;34m.\u001b[0m\u001b[0mapply\u001b[0m\u001b[0;34m(\u001b[0m\u001b[0minfer\u001b[0m\u001b[0;34m)\u001b[0m\u001b[0;34m\u001b[0m\u001b[0m\n",
      "\u001b[0;32mpandas/src/inference.pyx\u001b[0m in \u001b[0;36mpandas.lib.map_infer (pandas/lib.c:62658)\u001b[0;34m()\u001b[0m\n",
      "\u001b[0;31mTypeError\u001b[0m: (\"object of type 'float' has no len()\", u'occurred at index 1F')"
     ]
    }
   ],
   "source": [
    "from Bio import Entrez\n",
    "from Bio.SeqIO import parse\n",
    "from Bio.SeqRecord import SeqRecord\n",
    "from StringIO import StringIO\n",
    "import pandas\n",
    "\n",
    "Entrez.email = \"ryneches@ucdavis.edu\"\n",
    "\n",
    "sedge_genes = {\n",
    "    '5.8S' : [ '5.8S ribosomal RNA' ],\n",
    "    '1F'   : [ 'external transcribed spacer' ],\n",
    "    'TRNL' : [ 'tRNA-Leu', 'trnL' ],\n",
    "    }\n",
    "\n",
    "def match_gene( description, nametable ) :\n",
    "    for gene in nametable.keys() :\n",
    "        for genestring in nametable[gene] :\n",
    "            if description.__contains__( genestring ) :\n",
    "                return gene\n",
    "                \n",
    "sedge_genetable = {}\n",
    "\n",
    "for key in sedge_outgroup.keys() :\n",
    "    sedge_genetable[key] = {}\n",
    "    for accn in sedge_outgroup[key] :\n",
    "        fasta = Entrez.efetch( db='nucleotide', id=accn, rettype='fasta', retmode='fasta' ).read()\n",
    "        record = parse( StringIO( fasta ) , 'fasta' ).next()\n",
    "        gene = match_gene( record.description, sedge_genes )\n",
    "        sedge_genetable[key][gene] = record\n",
    "    print key, ':', ', '.join( sedge_genetable[key].keys() )\n",
    "    \n",
    "for key in sedge_ingroup.keys() :\n",
    "    sedge_genetable[key] = {}\n",
    "    for accn in sedge_ingroup[key] :\n",
    "        fasta = Entrez.efetch( db='nucleotide', id=accn, rettype='fasta', retmode='fasta' ).read()\n",
    "        record = parse( StringIO( fasta ) , 'fasta' ).next()\n",
    "        gene = match_gene( record.description, sedge_genes )\n",
    "        sedge_genetable[key][gene] = record\n",
    "        #print record.description\n",
    "    print key, ':', ', '.join( sedge_genetable[key].keys() )\n",
    "\n",
    "sedge_genetable = pandas.DataFrame( sedge_genetable ).T\n",
    "sedge_genetable.applymap( len )"
   ]
  },
  {
   "cell_type": "code",
   "execution_count": 11,
   "metadata": {
    "collapsed": false
   },
   "outputs": [
    {
     "data": {
      "text/plain": [
       "SeqRecord(seq=Seq('ATAAAAAGCCCTTTTGATTTTCAAAATATTTCTTCTTTATTTTGATTTTGATGA...ATA', SingleLetterAlphabet()), id='AY115852.1', name='AY115852.1', description='AY115852.1 Uncinia rubra trnL-trnF intergenic spacer region, chloroplast sequence', dbxrefs=[])"
      ]
     },
     "execution_count": 11,
     "metadata": {},
     "output_type": "execute_result"
    }
   ],
   "source": [
    "record"
   ]
  },
  {
   "cell_type": "code",
   "execution_count": null,
   "metadata": {
    "collapsed": true
   },
   "outputs": [],
   "source": []
  }
 ],
 "metadata": {
  "kernelspec": {
   "display_name": "Python 2",
   "language": "python",
   "name": "python2"
  },
  "language_info": {
   "codemirror_mode": {
    "name": "ipython",
    "version": 2
   },
   "file_extension": ".py",
   "mimetype": "text/x-python",
   "name": "python",
   "nbconvert_exporter": "python",
   "pygments_lexer": "ipython2",
   "version": "2.7.10"
  }
 },
 "nbformat": 4,
 "nbformat_minor": 0
}
