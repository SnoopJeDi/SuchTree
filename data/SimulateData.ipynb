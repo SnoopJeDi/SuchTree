{
 "cells": [
  {
   "cell_type": "markdown",
   "metadata": {},
   "source": [
    "# Simulated interactions\n",
    "\n",
    "This notebook generates simulated datasets of phylogenies of interacting\n",
    "groups of species.\n",
    "\n",
    "There are two kinds of simulated data : Null data sets, consisting of two randomly generated\n",
    "trees with random links between leafs, and \"perfect\" data sets, consisting of identical trees\n",
    "with leaves linked in a bijection."
   ]
  },
  {
   "cell_type": "code",
   "execution_count": null,
   "metadata": {
    "collapsed": true
   },
   "outputs": [],
   "source": [
    "## Null datasets\n",
    "\n",
    "import dendropy\n",
    "import os\n",
    "\n",
    "N_min, N_max = 10, 200\n",
    "\n",
    "for i in xrange(50) :\n",
    "    \n",
    "    N = randint( N_min, N_max )\n",
    "    M = randint( N_min, N_max )\n",
    "    L = randint( 0.5*( N+M ), 4.0*( N+M ) )\n",
    "\n",
    "    host_taxa =  [ 'host_'  + str(x) for x in xrange(N) ]\n",
    "    guest_taxa = [ 'guest_' + str(x) for x in xrange(M) ]\n",
    "    \n",
    "    ht = dendropy.simulate.treesim.birth_death_tree( 1.0, 0.5, \n",
    "                                                     #birth_rate_sd=0.5, death_rate_sd=0.5,\n",
    "                                                     ntax=len(host_taxa) )\n",
    "    \n",
    "    gt = dendropy.simulate.treesim.birth_death_tree( 1.0, 0.5, \n",
    "                                                     #birth_rate_sd=0.5, death_rate_sd=0.5,\n",
    "                                                     ntax=len(guest_taxa) )\n",
    "    \n",
    "    for leaf,name in zip(ht.leaf_node_iter(),host_taxa) :\n",
    "        leaf.taxon.label = name\n",
    "    \n",
    "    for leaf,name in zip(gt.leaf_node_iter(),guest_taxa) :\n",
    "        leaf.taxon.label = name\n",
    "    \n",
    "    lm = zeros( (M,N) )\n",
    "    for j in xrange(L) :\n",
    "        lm[ randint(M), randint(N) ] = 1\n",
    "    \n",
    "    lmdf = pd.DataFrame( lm, columns=host_taxa, index=guest_taxa, dtype=int )\n",
    "    \n",
    "    path = 'data/simulated/null/null' + str(i) +'/'\n",
    "    if not os.path.exists( path ) :\n",
    "        os.mkdir( path )\n",
    "\n",
    "    ht.write( file=open( path + 'host.tree', 'w'),  schema='newick' )\n",
    "    gt.write( file=open( path + 'guest.tree', 'w'), schema='newick' )\n",
    "    lmdf.to_csv( path + 'links.csv' )"
   ]
  },
  {
   "cell_type": "code",
   "execution_count": null,
   "metadata": {
    "collapsed": true
   },
   "outputs": [],
   "source": [
    "## \"Perfect\" datasets\n",
    "\n",
    "import dendropy\n",
    "import os\n",
    "\n",
    "N_min, N_max = 10, 200\n",
    "\n",
    "for i in xrange(50) :\n",
    "    \n",
    "    N = randint( N_min, N_max )\n",
    "    \n",
    "    path = 'data/simulated/perfect/perfect' + str(i) +'/'\n",
    "    if not os.path.exists( path ) :\n",
    "        os.mkdir( path )\n",
    "        \n",
    "    host_taxa =  [ 'host_'  + str(x) for x in xrange(N) ]\n",
    "    guest_taxa = [ 'guest_' + str(x) for x in xrange(N) ]\n",
    "    \n",
    "    t = dendropy.simulate.treesim.birth_death_tree( 1.0, 0.5, \n",
    "                                                    #birth_rate_sd=0.5, death_rate_sd=0.5,\n",
    "                                                    ntax=len(host_taxa) )\n",
    "        \n",
    "    for leaf,name in zip(t.leaf_node_iter(),host_taxa) :\n",
    "        leaf.taxon.label = name\n",
    "    \n",
    "    t.write( file=open( path + 'host.tree', 'w'),  schema='newick' )\n",
    "    \n",
    "    for leaf,name in zip(t.leaf_node_iter(),guest_taxa) :\n",
    "        leaf.taxon.label = name\n",
    "    \n",
    "    t.write( file=open( path + 'guest.tree', 'w'), schema='newick' )\n",
    "    \n",
    "    lm = zeros( (N,N) )\n",
    "    for j in xrange(N) :\n",
    "        lm[ j, j ] = 1\n",
    "    \n",
    "    lmdf = pd.DataFrame( lm, columns=host_taxa, index=guest_taxa, dtype=int )\n",
    "    \n",
    "    lmdf.to_csv( path + 'links.csv' )"
   ]
  }
 ],
 "metadata": {
  "kernelspec": {
   "display_name": "Python 2",
   "language": "python",
   "name": "python2"
  },
  "language_info": {
   "codemirror_mode": {
    "name": "ipython",
    "version": 2
   },
   "file_extension": ".py",
   "mimetype": "text/x-python",
   "name": "python",
   "nbconvert_exporter": "python",
   "pygments_lexer": "ipython2",
   "version": "2.7.10"
  }
 },
 "nbformat": 4,
 "nbformat_minor": 0
}
